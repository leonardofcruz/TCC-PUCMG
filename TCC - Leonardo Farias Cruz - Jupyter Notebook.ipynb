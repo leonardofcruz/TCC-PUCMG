{
 "cells": [
  {
   "cell_type": "markdown",
   "metadata": {
    "id": "PMgjrGGmrBv0"
   },
   "source": [
    "# **Trabalho de Conclusão de Curso**\n",
    "\n",
    "**Ciência de dados aplicado a detecção de fraudes em transações de cartões de crédito**\n",
    "\n",
    "Autor: Leonardo Farias Cruz\n",
    "Arquivo: TCC - Leonardo Farias Cruz - Jupyter Notebook.ipynb\n",
    "\n",
    "\n",
    "Script Python para o trabalho monográfico:  Aplicação de Ciência de Dados para classificação de fraudes em operações de cartão de crédito e débito\n",
    "\n",
    "**Versão para a ferramenta Jupyter Notebook**\n",
    "\n",
    "Pós-Graduação Lato Sensu em Ciência de Dados e Big Data PUC-MG\n",
    "\n",
    "Ano 2022\n"
   ]
  },
  {
   "cell_type": "code",
   "execution_count": 9,
   "metadata": {
    "id": "2zKUaVwLYn15"
   },
   "outputs": [],
   "source": [
    "# suprimir os warnings\n",
    "from warnings import simplefilter\n",
    "simplefilter(action='ignore', category=FutureWarning)\n",
    "\n",
    "# instalar a biblioteca scikit-plot\n",
    "!pip install -q scikit-plot\n",
    "# instalar a biblioteca imblearn\n",
    "!pip install -q imblearn\n"
   ]
  },
  {
   "cell_type": "markdown",
   "metadata": {
    "id": "xif5hTYDrB-z"
   },
   "source": [
    "# **Importação de pacotes**"
   ]
  },
  {
   "cell_type": "code",
   "execution_count": 10,
   "metadata": {
    "id": "ou1YRAUfrCWL"
   },
   "outputs": [],
   "source": [
    "import pandas as pd\n",
    "import numpy as np\n",
    "import seaborn as sns\n",
    "import scikitplot as skplt\n",
    "\n",
    "from sklearn.preprocessing import OneHotEncoder\n",
    "from sklearn.preprocessing import StandardScaler\n",
    "from sklearn.model_selection import train_test_split\n",
    "from sklearn.linear_model import LogisticRegression\n",
    "from sklearn.metrics import classification_report\n",
    "from sklearn.metrics import roc_auc_score, roc_curve, accuracy_score\n",
    "from imblearn.under_sampling import RandomUnderSampler\n",
    "from imblearn.over_sampling import RandomOverSampler\n",
    "\n",
    "import matplotlib.pyplot as plt\n",
    "from datetime import datetime\n",
    "import joblib"
   ]
  },
  {
   "cell_type": "markdown",
   "metadata": {
    "id": "3po-35PHrKrr"
   },
   "source": [
    "#**Importação dos DataSet's**"
   ]
  },
  {
   "cell_type": "markdown",
   "metadata": {
    "id": "umM7MIbbyq9r"
   },
   "source": [
    "#**Importação dos arquivos Utilizando o Google Colab**\n",
    "Dataset original encontrado no Kaggle em https://www.kaggle.com/datasets/ealtman2019/credit-card-transactions\n",
    "\n",
    "\n",
    "Repositório no Google Drive com os arquivos compartilhados: \n",
    "[Arquivos de dados CSV](https://drive.google.com/drive/folders/1jzNkAM2cyEUfa0eHEMYwswaVfqXh6_ES?usp=sharing)\n",
    "\n",
    "---\n",
    "\n",
    "- Criar pasta para o projeto do TCC no Jupyter Notebook \n",
    "- Importar os arquivos CSV e IPYNB\n",
    "\n",
    "**Atenção** Por conta do tamanho do arquivo credit_card_transactions-ibm_v2.csv sua importação deve demorar alguns minutos\n",
    "\n",
    "---\n",
    "\n",
    "Após essa operação seguir com os passos subsequentes.\n",
    "\n",
    "Arquivos: \n",
    "\n",
    "          sd254_users.csv (Cadastro de Usuários) 220Kb\n",
    "          sd254_cards.csv (Cadastro de Cartões) 476Kb\n",
    "          credit_card_transactions-ibm_v2 (Transações de cartões de crédito) 2.2Gb\n",
    "\n"
   ]
  },
  {
   "cell_type": "markdown",
   "metadata": {
    "id": "kTiydxXIr3mq"
   },
   "source": [
    "**Leitura dos DataSets**"
   ]
  },
  {
   "cell_type": "markdown",
   "metadata": {
    "id": "tq-5XjIcEhIL"
   },
   "source": [
    "Dataset de **Transações**"
   ]
  },
  {
   "cell_type": "code",
   "execution_count": 11,
   "metadata": {
    "colab": {
     "base_uri": "https://localhost:8080/"
    },
    "executionInfo": {
     "elapsed": 48923,
     "status": "ok",
     "timestamp": 1665540530421,
     "user": {
      "displayName": "Leonardo Cruz",
      "userId": "16069636580170791409"
     },
     "user_tz": 180
    },
    "id": "UUDD-77te2Qk",
    "outputId": "ffd2826d-4e5d-4b07-de80-e3967c9beac5"
   },
   "outputs": [
    {
     "name": "stdout",
     "output_type": "stream",
     "text": [
      "Início: 2022-10-15 16:28:07.525480\n",
      "Fim...: 2022-10-15 16:28:45.838110\n"
     ]
    }
   ],
   "source": [
    "# PASSO 2  (Demora em torno de 1 minuto e meio)\n",
    "# Leitura do arquivo de transações no google driver\n",
    "# Obs. Somente após copiar os arquivos para o google driver e os mesmo estarem disponíveis (Driver atualizado)\n",
    "# \n",
    "print('Início:',datetime.now())\n",
    "transacoes = pd.read_csv('credit_card_transactions-ibm_v2.csv')\n",
    "print('Fim...:',datetime.now())"
   ]
  },
  {
   "cell_type": "markdown",
   "metadata": {
    "id": "vo4GkpuBEkgl"
   },
   "source": [
    "DataSet de **Usuários**"
   ]
  },
  {
   "cell_type": "code",
   "execution_count": 12,
   "metadata": {
    "colab": {
     "base_uri": "https://localhost:8080/"
    },
    "executionInfo": {
     "elapsed": 303,
     "status": "ok",
     "timestamp": 1665540589345,
     "user": {
      "displayName": "Leonardo Cruz",
      "userId": "16069636580170791409"
     },
     "user_tz": 180
    },
    "id": "-oSbCX6fsXzK",
    "outputId": "90312fc6-fb73-4b09-d31f-60c6fceb2d26"
   },
   "outputs": [
    {
     "name": "stdout",
     "output_type": "stream",
     "text": [
      "Início: 2022-10-15 16:29:04.989173\n",
      "Fim...: 2022-10-15 16:29:05.024153\n"
     ]
    }
   ],
   "source": [
    "# PASSO 3\n",
    "# Leitura do arquivo de Usuarios no google driver\n",
    "print('Início:',datetime.now())\n",
    "usuarios = pd.read_csv('sd254_users.csv') \n",
    "print('Fim...:',datetime.now())\n"
   ]
  },
  {
   "cell_type": "markdown",
   "metadata": {
    "id": "9fZpppTcEnWn"
   },
   "source": [
    "Dataset de **Cartões**"
   ]
  },
  {
   "cell_type": "code",
   "execution_count": 13,
   "metadata": {
    "colab": {
     "base_uri": "https://localhost:8080/"
    },
    "executionInfo": {
     "elapsed": 287,
     "status": "ok",
     "timestamp": 1665540592005,
     "user": {
      "displayName": "Leonardo Cruz",
      "userId": "16069636580170791409"
     },
     "user_tz": 180
    },
    "id": "6z8_d037sicI",
    "outputId": "a494f18a-62bf-4b56-dc58-87b291f32fa5"
   },
   "outputs": [
    {
     "name": "stdout",
     "output_type": "stream",
     "text": [
      "Início: 2022-10-15 16:29:06.574349\n",
      "Fim...: 2022-10-15 16:29:06.606317\n"
     ]
    }
   ],
   "source": [
    "# PASSO 4\n",
    "# Leitura do arquivo de Cartões o google driver\n",
    "print('Início:',datetime.now())\n",
    "cartoes = pd.read_csv('sd254_cards.csv') \n",
    "print('Fim...:',datetime.now())"
   ]
  },
  {
   "cell_type": "markdown",
   "metadata": {
    "id": "mWpsu3avSFte"
   },
   "source": [
    "# **Análise Exploratória dos dados**"
   ]
  },
  {
   "cell_type": "markdown",
   "metadata": {
    "id": "H6JBDdgOEps4"
   },
   "source": [
    "**Visualização dos dados de cada Dataset**"
   ]
  },
  {
   "cell_type": "code",
   "execution_count": 14,
   "metadata": {
    "colab": {
     "base_uri": "https://localhost:8080/"
    },
    "executionInfo": {
     "elapsed": 5,
     "status": "ok",
     "timestamp": 1665540597762,
     "user": {
      "displayName": "Leonardo Cruz",
      "userId": "16069636580170791409"
     },
     "user_tz": 180
    },
    "id": "OS9YyZAoglTR",
    "outputId": "014ca0c2-1563-4467-ff16-317551abac0c"
   },
   "outputs": [
    {
     "name": "stdout",
     "output_type": "stream",
     "text": [
      "\n",
      "Campos: Index(['User', 'Card', 'Year', 'Month', 'Day', 'Time', 'Amount', 'Use Chip',\n",
      "       'Merchant Name', 'Merchant City', 'Merchant State', 'Zip', 'MCC',\n",
      "       'Errors?', 'Is Fraud?'],\n",
      "      dtype='object')\n",
      "Variáveis:  15\n",
      "Entradas:  24386900\n",
      "\n",
      "Tipos dos dados:\n",
      "User                int64\n",
      "Card                int64\n",
      "Year                int64\n",
      "Month               int64\n",
      "Day                 int64\n",
      "Time               object\n",
      "Amount             object\n",
      "Use Chip           object\n",
      "Merchant Name       int64\n",
      "Merchant City      object\n",
      "Merchant State     object\n",
      "Zip               float64\n",
      "MCC                 int64\n",
      "Errors?            object\n",
      "Is Fraud?          object\n",
      "dtype: object\n",
      "\n"
     ]
    }
   ],
   "source": [
    "print(\"\\nCampos: {0}\".format(transacoes.keys()))\n",
    "\n",
    "# verificar o tamanho do DataFrame\n",
    "print(\"Variáveis: \", transacoes.shape[1])\n",
    "print(\"Entradas: \", transacoes.shape[0])\n",
    "print(\"\\nTipos dos dados:\\n{0}\\n\".format(transacoes.dtypes))"
   ]
  },
  {
   "cell_type": "code",
   "execution_count": 15,
   "metadata": {
    "colab": {
     "base_uri": "https://localhost:8080/"
    },
    "executionInfo": {
     "elapsed": 309,
     "status": "ok",
     "timestamp": 1665540600674,
     "user": {
      "displayName": "Leonardo Cruz",
      "userId": "16069636580170791409"
     },
     "user_tz": 180
    },
    "id": "pBMuUfVGojB5",
    "outputId": "0567a9be-4e87-4924-d621-bd646eaeae3d"
   },
   "outputs": [
    {
     "name": "stdout",
     "output_type": "stream",
     "text": [
      "\n",
      "Campos: Index(['Person', 'Current Age', 'Retirement Age', 'Birth Year', 'Birth Month',\n",
      "       'Gender', 'Address', 'Apartment', 'City', 'State', 'Zipcode',\n",
      "       'Latitude', 'Longitude', 'Per Capita Income - Zipcode',\n",
      "       'Yearly Income - Person', 'Total Debt', 'FICO Score',\n",
      "       'Num Credit Cards'],\n",
      "      dtype='object')\n",
      "\n",
      "\n",
      "Variáveis:  18\n",
      "Entradas:  2000\n",
      "\n",
      "Tipos dos dados:\n",
      "Person                          object\n",
      "Current Age                      int64\n",
      "Retirement Age                   int64\n",
      "Birth Year                       int64\n",
      "Birth Month                      int64\n",
      "Gender                          object\n",
      "Address                         object\n",
      "Apartment                      float64\n",
      "City                            object\n",
      "State                           object\n",
      "Zipcode                          int64\n",
      "Latitude                       float64\n",
      "Longitude                      float64\n",
      "Per Capita Income - Zipcode     object\n",
      "Yearly Income - Person          object\n",
      "Total Debt                      object\n",
      "FICO Score                       int64\n",
      "Num Credit Cards                 int64\n",
      "dtype: object\n",
      "\n"
     ]
    }
   ],
   "source": [
    "print(\"\\nCampos: {0}\".format(usuarios.keys()))\n",
    "\n",
    "# verificar o tamanho do DataFrame\n",
    "print(\"\\n\\nVariáveis: \", usuarios.shape[1])\n",
    "print(\"Entradas: \", usuarios.shape[0])\n",
    "print(\"\\nTipos dos dados:\\n{0}\\n\".format(usuarios.dtypes))"
   ]
  },
  {
   "cell_type": "code",
   "execution_count": 16,
   "metadata": {
    "colab": {
     "base_uri": "https://localhost:8080/"
    },
    "executionInfo": {
     "elapsed": 8,
     "status": "ok",
     "timestamp": 1665540611792,
     "user": {
      "displayName": "Leonardo Cruz",
      "userId": "16069636580170791409"
     },
     "user_tz": 180
    },
    "id": "4nhSPLqopQ35",
    "outputId": "dac2ec1e-5f92-4394-b74c-4d115e480859"
   },
   "outputs": [
    {
     "name": "stdout",
     "output_type": "stream",
     "text": [
      "\n",
      "Campos: Index(['User', 'CARD INDEX', 'Card Brand', 'Card Type', 'Card Number',\n",
      "       'Expires', 'CVV', 'Has Chip', 'Cards Issued', 'Credit Limit',\n",
      "       'Acct Open Date', 'Year PIN last Changed', 'Card on Dark Web'],\n",
      "      dtype='object')\n",
      "\n",
      "Variáveis:  13\n",
      "Entradas:  6146\n",
      "\n",
      "Tipos dos dados:\n",
      "User                      int64\n",
      "CARD INDEX                int64\n",
      "Card Brand               object\n",
      "Card Type                object\n",
      "Card Number               int64\n",
      "Expires                  object\n",
      "CVV                       int64\n",
      "Has Chip                 object\n",
      "Cards Issued              int64\n",
      "Credit Limit             object\n",
      "Acct Open Date           object\n",
      "Year PIN last Changed     int64\n",
      "Card on Dark Web         object\n",
      "dtype: object\n",
      "\n"
     ]
    }
   ],
   "source": [
    "print(\"\\nCampos: {0}\".format(cartoes.keys()))\n",
    "\n",
    "# verificar o tamanho do DataFrame\n",
    "print(\"\\nVariáveis: \", cartoes.shape[1])\n",
    "print(\"Entradas: \", cartoes.shape[0])\n",
    "print(\"\\nTipos dos dados:\\n{0}\\n\".format(cartoes.dtypes))"
   ]
  },
  {
   "cell_type": "code",
   "execution_count": 17,
   "metadata": {
    "colab": {
     "base_uri": "https://localhost:8080/",
     "height": 374
    },
    "executionInfo": {
     "elapsed": 332,
     "status": "ok",
     "timestamp": 1665540616376,
     "user": {
      "displayName": "Leonardo Cruz",
      "userId": "16069636580170791409"
     },
     "user_tz": 180
    },
    "id": "KwBP8mHOtSpj",
    "outputId": "79e9efbc-d895-44a2-9de1-4a2ac860c2cc"
   },
   "outputs": [
    {
     "data": {
      "text/html": [
       "<div>\n",
       "<style scoped>\n",
       "    .dataframe tbody tr th:only-of-type {\n",
       "        vertical-align: middle;\n",
       "    }\n",
       "\n",
       "    .dataframe tbody tr th {\n",
       "        vertical-align: top;\n",
       "    }\n",
       "\n",
       "    .dataframe thead th {\n",
       "        text-align: right;\n",
       "    }\n",
       "</style>\n",
       "<table border=\"1\" class=\"dataframe\">\n",
       "  <thead>\n",
       "    <tr style=\"text-align: right;\">\n",
       "      <th></th>\n",
       "      <th>User</th>\n",
       "      <th>Card</th>\n",
       "      <th>Year</th>\n",
       "      <th>Month</th>\n",
       "      <th>Day</th>\n",
       "      <th>Time</th>\n",
       "      <th>Amount</th>\n",
       "      <th>Use Chip</th>\n",
       "      <th>Merchant Name</th>\n",
       "      <th>Merchant City</th>\n",
       "      <th>Merchant State</th>\n",
       "      <th>Zip</th>\n",
       "      <th>MCC</th>\n",
       "      <th>Errors?</th>\n",
       "      <th>Is Fraud?</th>\n",
       "    </tr>\n",
       "  </thead>\n",
       "  <tbody>\n",
       "    <tr>\n",
       "      <th>0</th>\n",
       "      <td>0</td>\n",
       "      <td>0</td>\n",
       "      <td>2002</td>\n",
       "      <td>9</td>\n",
       "      <td>1</td>\n",
       "      <td>06:21</td>\n",
       "      <td>$134.09</td>\n",
       "      <td>Swipe Transaction</td>\n",
       "      <td>3527213246127876953</td>\n",
       "      <td>La Verne</td>\n",
       "      <td>CA</td>\n",
       "      <td>91750.0</td>\n",
       "      <td>5300</td>\n",
       "      <td>NaN</td>\n",
       "      <td>No</td>\n",
       "    </tr>\n",
       "    <tr>\n",
       "      <th>1</th>\n",
       "      <td>0</td>\n",
       "      <td>0</td>\n",
       "      <td>2002</td>\n",
       "      <td>9</td>\n",
       "      <td>1</td>\n",
       "      <td>06:42</td>\n",
       "      <td>$38.48</td>\n",
       "      <td>Swipe Transaction</td>\n",
       "      <td>-727612092139916043</td>\n",
       "      <td>Monterey Park</td>\n",
       "      <td>CA</td>\n",
       "      <td>91754.0</td>\n",
       "      <td>5411</td>\n",
       "      <td>NaN</td>\n",
       "      <td>No</td>\n",
       "    </tr>\n",
       "    <tr>\n",
       "      <th>2</th>\n",
       "      <td>0</td>\n",
       "      <td>0</td>\n",
       "      <td>2002</td>\n",
       "      <td>9</td>\n",
       "      <td>2</td>\n",
       "      <td>06:22</td>\n",
       "      <td>$120.34</td>\n",
       "      <td>Swipe Transaction</td>\n",
       "      <td>-727612092139916043</td>\n",
       "      <td>Monterey Park</td>\n",
       "      <td>CA</td>\n",
       "      <td>91754.0</td>\n",
       "      <td>5411</td>\n",
       "      <td>NaN</td>\n",
       "      <td>No</td>\n",
       "    </tr>\n",
       "    <tr>\n",
       "      <th>3</th>\n",
       "      <td>0</td>\n",
       "      <td>0</td>\n",
       "      <td>2002</td>\n",
       "      <td>9</td>\n",
       "      <td>2</td>\n",
       "      <td>17:45</td>\n",
       "      <td>$128.95</td>\n",
       "      <td>Swipe Transaction</td>\n",
       "      <td>3414527459579106770</td>\n",
       "      <td>Monterey Park</td>\n",
       "      <td>CA</td>\n",
       "      <td>91754.0</td>\n",
       "      <td>5651</td>\n",
       "      <td>NaN</td>\n",
       "      <td>No</td>\n",
       "    </tr>\n",
       "    <tr>\n",
       "      <th>4</th>\n",
       "      <td>0</td>\n",
       "      <td>0</td>\n",
       "      <td>2002</td>\n",
       "      <td>9</td>\n",
       "      <td>3</td>\n",
       "      <td>06:23</td>\n",
       "      <td>$104.71</td>\n",
       "      <td>Swipe Transaction</td>\n",
       "      <td>5817218446178736267</td>\n",
       "      <td>La Verne</td>\n",
       "      <td>CA</td>\n",
       "      <td>91750.0</td>\n",
       "      <td>5912</td>\n",
       "      <td>NaN</td>\n",
       "      <td>No</td>\n",
       "    </tr>\n",
       "  </tbody>\n",
       "</table>\n",
       "</div>"
      ],
      "text/plain": [
       "   User  Card  Year  Month  Day   Time   Amount           Use Chip  \\\n",
       "0     0     0  2002      9    1  06:21  $134.09  Swipe Transaction   \n",
       "1     0     0  2002      9    1  06:42   $38.48  Swipe Transaction   \n",
       "2     0     0  2002      9    2  06:22  $120.34  Swipe Transaction   \n",
       "3     0     0  2002      9    2  17:45  $128.95  Swipe Transaction   \n",
       "4     0     0  2002      9    3  06:23  $104.71  Swipe Transaction   \n",
       "\n",
       "         Merchant Name  Merchant City Merchant State      Zip   MCC Errors?  \\\n",
       "0  3527213246127876953       La Verne             CA  91750.0  5300     NaN   \n",
       "1  -727612092139916043  Monterey Park             CA  91754.0  5411     NaN   \n",
       "2  -727612092139916043  Monterey Park             CA  91754.0  5411     NaN   \n",
       "3  3414527459579106770  Monterey Park             CA  91754.0  5651     NaN   \n",
       "4  5817218446178736267       La Verne             CA  91750.0  5912     NaN   \n",
       "\n",
       "  Is Fraud?  \n",
       "0        No  \n",
       "1        No  \n",
       "2        No  \n",
       "3        No  \n",
       "4        No  "
      ]
     },
     "execution_count": 17,
     "metadata": {},
     "output_type": "execute_result"
    }
   ],
   "source": [
    "transacoes.head()"
   ]
  },
  {
   "cell_type": "code",
   "execution_count": 18,
   "metadata": {
    "colab": {
     "base_uri": "https://localhost:8080/",
     "height": 496
    },
    "executionInfo": {
     "elapsed": 292,
     "status": "ok",
     "timestamp": 1665540634848,
     "user": {
      "displayName": "Leonardo Cruz",
      "userId": "16069636580170791409"
     },
     "user_tz": 180
    },
    "id": "--Elc4RTtW10",
    "outputId": "5acc9968-df20-4297-f30f-10cede64de95"
   },
   "outputs": [
    {
     "data": {
      "text/html": [
       "<div>\n",
       "<style scoped>\n",
       "    .dataframe tbody tr th:only-of-type {\n",
       "        vertical-align: middle;\n",
       "    }\n",
       "\n",
       "    .dataframe tbody tr th {\n",
       "        vertical-align: top;\n",
       "    }\n",
       "\n",
       "    .dataframe thead th {\n",
       "        text-align: right;\n",
       "    }\n",
       "</style>\n",
       "<table border=\"1\" class=\"dataframe\">\n",
       "  <thead>\n",
       "    <tr style=\"text-align: right;\">\n",
       "      <th></th>\n",
       "      <th>Person</th>\n",
       "      <th>Current Age</th>\n",
       "      <th>Retirement Age</th>\n",
       "      <th>Birth Year</th>\n",
       "      <th>Birth Month</th>\n",
       "      <th>Gender</th>\n",
       "      <th>Address</th>\n",
       "      <th>Apartment</th>\n",
       "      <th>City</th>\n",
       "      <th>State</th>\n",
       "      <th>Zipcode</th>\n",
       "      <th>Latitude</th>\n",
       "      <th>Longitude</th>\n",
       "      <th>Per Capita Income - Zipcode</th>\n",
       "      <th>Yearly Income - Person</th>\n",
       "      <th>Total Debt</th>\n",
       "      <th>FICO Score</th>\n",
       "      <th>Num Credit Cards</th>\n",
       "    </tr>\n",
       "  </thead>\n",
       "  <tbody>\n",
       "    <tr>\n",
       "      <th>0</th>\n",
       "      <td>Hazel Robinson</td>\n",
       "      <td>53</td>\n",
       "      <td>66</td>\n",
       "      <td>1966</td>\n",
       "      <td>11</td>\n",
       "      <td>Female</td>\n",
       "      <td>462 Rose Lane</td>\n",
       "      <td>NaN</td>\n",
       "      <td>La Verne</td>\n",
       "      <td>CA</td>\n",
       "      <td>91750</td>\n",
       "      <td>34.15</td>\n",
       "      <td>-117.76</td>\n",
       "      <td>$29278</td>\n",
       "      <td>$59696</td>\n",
       "      <td>$127613</td>\n",
       "      <td>787</td>\n",
       "      <td>5</td>\n",
       "    </tr>\n",
       "    <tr>\n",
       "      <th>1</th>\n",
       "      <td>Sasha Sadr</td>\n",
       "      <td>53</td>\n",
       "      <td>68</td>\n",
       "      <td>1966</td>\n",
       "      <td>12</td>\n",
       "      <td>Female</td>\n",
       "      <td>3606 Federal Boulevard</td>\n",
       "      <td>NaN</td>\n",
       "      <td>Little Neck</td>\n",
       "      <td>NY</td>\n",
       "      <td>11363</td>\n",
       "      <td>40.76</td>\n",
       "      <td>-73.74</td>\n",
       "      <td>$37891</td>\n",
       "      <td>$77254</td>\n",
       "      <td>$191349</td>\n",
       "      <td>701</td>\n",
       "      <td>5</td>\n",
       "    </tr>\n",
       "    <tr>\n",
       "      <th>2</th>\n",
       "      <td>Saanvi Lee</td>\n",
       "      <td>81</td>\n",
       "      <td>67</td>\n",
       "      <td>1938</td>\n",
       "      <td>11</td>\n",
       "      <td>Female</td>\n",
       "      <td>766 Third Drive</td>\n",
       "      <td>NaN</td>\n",
       "      <td>West Covina</td>\n",
       "      <td>CA</td>\n",
       "      <td>91792</td>\n",
       "      <td>34.02</td>\n",
       "      <td>-117.89</td>\n",
       "      <td>$22681</td>\n",
       "      <td>$33483</td>\n",
       "      <td>$196</td>\n",
       "      <td>698</td>\n",
       "      <td>5</td>\n",
       "    </tr>\n",
       "    <tr>\n",
       "      <th>3</th>\n",
       "      <td>Everlee Clark</td>\n",
       "      <td>63</td>\n",
       "      <td>63</td>\n",
       "      <td>1957</td>\n",
       "      <td>1</td>\n",
       "      <td>Female</td>\n",
       "      <td>3 Madison Street</td>\n",
       "      <td>NaN</td>\n",
       "      <td>New York</td>\n",
       "      <td>NY</td>\n",
       "      <td>10069</td>\n",
       "      <td>40.71</td>\n",
       "      <td>-73.99</td>\n",
       "      <td>$163145</td>\n",
       "      <td>$249925</td>\n",
       "      <td>$202328</td>\n",
       "      <td>722</td>\n",
       "      <td>4</td>\n",
       "    </tr>\n",
       "    <tr>\n",
       "      <th>4</th>\n",
       "      <td>Kyle Peterson</td>\n",
       "      <td>43</td>\n",
       "      <td>70</td>\n",
       "      <td>1976</td>\n",
       "      <td>9</td>\n",
       "      <td>Male</td>\n",
       "      <td>9620 Valley Stream Drive</td>\n",
       "      <td>NaN</td>\n",
       "      <td>San Francisco</td>\n",
       "      <td>CA</td>\n",
       "      <td>94117</td>\n",
       "      <td>37.76</td>\n",
       "      <td>-122.44</td>\n",
       "      <td>$53797</td>\n",
       "      <td>$109687</td>\n",
       "      <td>$183855</td>\n",
       "      <td>675</td>\n",
       "      <td>1</td>\n",
       "    </tr>\n",
       "  </tbody>\n",
       "</table>\n",
       "</div>"
      ],
      "text/plain": [
       "           Person  Current Age  Retirement Age  Birth Year  Birth Month  \\\n",
       "0  Hazel Robinson           53              66        1966           11   \n",
       "1      Sasha Sadr           53              68        1966           12   \n",
       "2      Saanvi Lee           81              67        1938           11   \n",
       "3   Everlee Clark           63              63        1957            1   \n",
       "4   Kyle Peterson           43              70        1976            9   \n",
       "\n",
       "   Gender                   Address  Apartment           City State  Zipcode  \\\n",
       "0  Female             462 Rose Lane        NaN       La Verne    CA    91750   \n",
       "1  Female    3606 Federal Boulevard        NaN    Little Neck    NY    11363   \n",
       "2  Female           766 Third Drive        NaN    West Covina    CA    91792   \n",
       "3  Female          3 Madison Street        NaN       New York    NY    10069   \n",
       "4    Male  9620 Valley Stream Drive        NaN  San Francisco    CA    94117   \n",
       "\n",
       "   Latitude  Longitude Per Capita Income - Zipcode Yearly Income - Person  \\\n",
       "0     34.15    -117.76                      $29278                 $59696   \n",
       "1     40.76     -73.74                      $37891                 $77254   \n",
       "2     34.02    -117.89                      $22681                 $33483   \n",
       "3     40.71     -73.99                     $163145                $249925   \n",
       "4     37.76    -122.44                      $53797                $109687   \n",
       "\n",
       "  Total Debt  FICO Score  Num Credit Cards  \n",
       "0    $127613         787                 5  \n",
       "1    $191349         701                 5  \n",
       "2       $196         698                 5  \n",
       "3    $202328         722                 4  \n",
       "4    $183855         675                 1  "
      ]
     },
     "execution_count": 18,
     "metadata": {},
     "output_type": "execute_result"
    }
   ],
   "source": [
    "usuarios.head()"
   ]
  },
  {
   "cell_type": "code",
   "execution_count": 19,
   "metadata": {
    "colab": {
     "base_uri": "https://localhost:8080/",
     "height": 320
    },
    "executionInfo": {
     "elapsed": 272,
     "status": "ok",
     "timestamp": 1665540637199,
     "user": {
      "displayName": "Leonardo Cruz",
      "userId": "16069636580170791409"
     },
     "user_tz": 180
    },
    "id": "cn_3wnYrtZvF",
    "outputId": "791282db-cdb5-4354-d28b-e2dea4874226"
   },
   "outputs": [
    {
     "data": {
      "text/html": [
       "<div>\n",
       "<style scoped>\n",
       "    .dataframe tbody tr th:only-of-type {\n",
       "        vertical-align: middle;\n",
       "    }\n",
       "\n",
       "    .dataframe tbody tr th {\n",
       "        vertical-align: top;\n",
       "    }\n",
       "\n",
       "    .dataframe thead th {\n",
       "        text-align: right;\n",
       "    }\n",
       "</style>\n",
       "<table border=\"1\" class=\"dataframe\">\n",
       "  <thead>\n",
       "    <tr style=\"text-align: right;\">\n",
       "      <th></th>\n",
       "      <th>User</th>\n",
       "      <th>CARD INDEX</th>\n",
       "      <th>Card Brand</th>\n",
       "      <th>Card Type</th>\n",
       "      <th>Card Number</th>\n",
       "      <th>Expires</th>\n",
       "      <th>CVV</th>\n",
       "      <th>Has Chip</th>\n",
       "      <th>Cards Issued</th>\n",
       "      <th>Credit Limit</th>\n",
       "      <th>Acct Open Date</th>\n",
       "      <th>Year PIN last Changed</th>\n",
       "      <th>Card on Dark Web</th>\n",
       "    </tr>\n",
       "  </thead>\n",
       "  <tbody>\n",
       "    <tr>\n",
       "      <th>0</th>\n",
       "      <td>0</td>\n",
       "      <td>0</td>\n",
       "      <td>Visa</td>\n",
       "      <td>Debit</td>\n",
       "      <td>4344676511950444</td>\n",
       "      <td>12/2022</td>\n",
       "      <td>623</td>\n",
       "      <td>YES</td>\n",
       "      <td>2</td>\n",
       "      <td>$24295</td>\n",
       "      <td>09/2002</td>\n",
       "      <td>2008</td>\n",
       "      <td>No</td>\n",
       "    </tr>\n",
       "    <tr>\n",
       "      <th>1</th>\n",
       "      <td>0</td>\n",
       "      <td>1</td>\n",
       "      <td>Visa</td>\n",
       "      <td>Debit</td>\n",
       "      <td>4956965974959986</td>\n",
       "      <td>12/2020</td>\n",
       "      <td>393</td>\n",
       "      <td>YES</td>\n",
       "      <td>2</td>\n",
       "      <td>$21968</td>\n",
       "      <td>04/2014</td>\n",
       "      <td>2014</td>\n",
       "      <td>No</td>\n",
       "    </tr>\n",
       "    <tr>\n",
       "      <th>2</th>\n",
       "      <td>0</td>\n",
       "      <td>2</td>\n",
       "      <td>Visa</td>\n",
       "      <td>Debit</td>\n",
       "      <td>4582313478255491</td>\n",
       "      <td>02/2024</td>\n",
       "      <td>719</td>\n",
       "      <td>YES</td>\n",
       "      <td>2</td>\n",
       "      <td>$46414</td>\n",
       "      <td>07/2003</td>\n",
       "      <td>2004</td>\n",
       "      <td>No</td>\n",
       "    </tr>\n",
       "    <tr>\n",
       "      <th>3</th>\n",
       "      <td>0</td>\n",
       "      <td>3</td>\n",
       "      <td>Visa</td>\n",
       "      <td>Credit</td>\n",
       "      <td>4879494103069057</td>\n",
       "      <td>08/2024</td>\n",
       "      <td>693</td>\n",
       "      <td>NO</td>\n",
       "      <td>1</td>\n",
       "      <td>$12400</td>\n",
       "      <td>01/2003</td>\n",
       "      <td>2012</td>\n",
       "      <td>No</td>\n",
       "    </tr>\n",
       "    <tr>\n",
       "      <th>4</th>\n",
       "      <td>0</td>\n",
       "      <td>4</td>\n",
       "      <td>Mastercard</td>\n",
       "      <td>Debit (Prepaid)</td>\n",
       "      <td>5722874738736011</td>\n",
       "      <td>03/2009</td>\n",
       "      <td>75</td>\n",
       "      <td>YES</td>\n",
       "      <td>1</td>\n",
       "      <td>$28</td>\n",
       "      <td>09/2008</td>\n",
       "      <td>2009</td>\n",
       "      <td>No</td>\n",
       "    </tr>\n",
       "  </tbody>\n",
       "</table>\n",
       "</div>"
      ],
      "text/plain": [
       "   User  CARD INDEX  Card Brand        Card Type       Card Number  Expires  \\\n",
       "0     0           0        Visa            Debit  4344676511950444  12/2022   \n",
       "1     0           1        Visa            Debit  4956965974959986  12/2020   \n",
       "2     0           2        Visa            Debit  4582313478255491  02/2024   \n",
       "3     0           3        Visa           Credit  4879494103069057  08/2024   \n",
       "4     0           4  Mastercard  Debit (Prepaid)  5722874738736011  03/2009   \n",
       "\n",
       "   CVV Has Chip  Cards Issued Credit Limit Acct Open Date  \\\n",
       "0  623      YES             2       $24295        09/2002   \n",
       "1  393      YES             2       $21968        04/2014   \n",
       "2  719      YES             2       $46414        07/2003   \n",
       "3  693       NO             1       $12400        01/2003   \n",
       "4   75      YES             1          $28        09/2008   \n",
       "\n",
       "   Year PIN last Changed Card on Dark Web  \n",
       "0                   2008               No  \n",
       "1                   2014               No  \n",
       "2                   2004               No  \n",
       "3                   2012               No  \n",
       "4                   2009               No  "
      ]
     },
     "execution_count": 19,
     "metadata": {},
     "output_type": "execute_result"
    }
   ],
   "source": [
    "cartoes.head()"
   ]
  },
  {
   "cell_type": "markdown",
   "metadata": {
    "id": "E6XYUeuhEvbC"
   },
   "source": [
    "**Verificação de colunas com valores nulos e exclusão de dados não significantes**\n",
    "\n"
   ]
  },
  {
   "cell_type": "markdown",
   "metadata": {
    "id": "g6f9a4JHPC-2"
   },
   "source": [
    "Dataframe \"transacoes\""
   ]
  },
  {
   "cell_type": "code",
   "execution_count": 20,
   "metadata": {
    "colab": {
     "base_uri": "https://localhost:8080/"
    },
    "executionInfo": {
     "elapsed": 9038,
     "status": "ok",
     "timestamp": 1665540648918,
     "user": {
      "displayName": "Leonardo Cruz",
      "userId": "16069636580170791409"
     },
     "user_tz": 180
    },
    "id": "ww3YE1UcttS1",
    "outputId": "5f18e745-4952-4153-d193-250c4ecb8e0e"
   },
   "outputs": [
    {
     "data": {
      "text/plain": [
       "Errors?           0.984072\n",
       "Zip               0.118020\n",
       "Merchant State    0.111569\n",
       "User              0.000000\n",
       "Card              0.000000\n",
       "Year              0.000000\n",
       "Month             0.000000\n",
       "Day               0.000000\n",
       "Time              0.000000\n",
       "Amount            0.000000\n",
       "Use Chip          0.000000\n",
       "Merchant Name     0.000000\n",
       "Merchant City     0.000000\n",
       "MCC               0.000000\n",
       "Is Fraud?         0.000000\n",
       "dtype: float64"
      ]
     },
     "execution_count": 20,
     "metadata": {},
     "output_type": "execute_result"
    }
   ],
   "source": [
    "# ver os valores faltantes das colunas\n",
    "(transacoes.isnull().sum()/ transacoes.shape[0]).sort_values(ascending=False)"
   ]
  },
  {
   "cell_type": "code",
   "execution_count": 21,
   "metadata": {
    "colab": {
     "base_uri": "https://localhost:8080/"
    },
    "executionInfo": {
     "elapsed": 6628,
     "status": "ok",
     "timestamp": 1665540703042,
     "user": {
      "displayName": "Leonardo Cruz",
      "userId": "16069636580170791409"
     },
     "user_tz": 180
    },
    "id": "EAdkxDzzzeos",
    "outputId": "07965cf3-fd85-43d4-8cfe-9665caad9056"
   },
   "outputs": [
    {
     "data": {
      "text/plain": [
       "User         0.0\n",
       "Card         0.0\n",
       "Year         0.0\n",
       "Month        0.0\n",
       "Day          0.0\n",
       "Time         0.0\n",
       "Amount       0.0\n",
       "Use Chip     0.0\n",
       "MCC          0.0\n",
       "Is Fraud?    0.0\n",
       "dtype: float64"
      ]
     },
     "execution_count": 21,
     "metadata": {},
     "output_type": "execute_result"
    }
   ],
   "source": [
    "# exclusão de colunas com valores faltantes ou não significantes\n",
    "# As classes 'Errors?', 'Zip' e 'Merchant State' foram retirados por apresentarem dados faltantes\n",
    "# As classes 'Merchant State' e 'Mechant Name' foram excluídas por não apresentarem dados significantes\n",
    "transacoes = transacoes.drop(columns=['Errors?','Zip','Merchant City','Merchant State','Merchant Name'])\n",
    "\n",
    "(transacoes.isnull().sum()/ transacoes.shape[0]).sort_values(ascending=False)"
   ]
  },
  {
   "cell_type": "markdown",
   "metadata": {
    "id": "c9X95OINPIRv"
   },
   "source": [
    "Dataframe \"usuarios\""
   ]
  },
  {
   "cell_type": "code",
   "execution_count": 22,
   "metadata": {
    "colab": {
     "base_uri": "https://localhost:8080/"
    },
    "executionInfo": {
     "elapsed": 267,
     "status": "ok",
     "timestamp": 1665540707734,
     "user": {
      "displayName": "Leonardo Cruz",
      "userId": "16069636580170791409"
     },
     "user_tz": 180
    },
    "id": "rGLsLBLzt-cx",
    "outputId": "7ee2805a-9838-47fe-9316-f7623526dcda"
   },
   "outputs": [
    {
     "data": {
      "text/plain": [
       "Apartment                      0.736\n",
       "Person                         0.000\n",
       "Zipcode                        0.000\n",
       "FICO Score                     0.000\n",
       "Total Debt                     0.000\n",
       "Yearly Income - Person         0.000\n",
       "Per Capita Income - Zipcode    0.000\n",
       "Longitude                      0.000\n",
       "Latitude                       0.000\n",
       "State                          0.000\n",
       "Current Age                    0.000\n",
       "City                           0.000\n",
       "Address                        0.000\n",
       "Gender                         0.000\n",
       "Birth Month                    0.000\n",
       "Birth Year                     0.000\n",
       "Retirement Age                 0.000\n",
       "Num Credit Cards               0.000\n",
       "dtype: float64"
      ]
     },
     "execution_count": 22,
     "metadata": {},
     "output_type": "execute_result"
    }
   ],
   "source": [
    "# ver os valores faltantes das colunas\n",
    "(usuarios.isnull().sum()/ usuarios.shape[0]).sort_values(ascending=False)"
   ]
  },
  {
   "cell_type": "code",
   "execution_count": 23,
   "metadata": {
    "colab": {
     "base_uri": "https://localhost:8080/"
    },
    "executionInfo": {
     "elapsed": 272,
     "status": "ok",
     "timestamp": 1665540710187,
     "user": {
      "displayName": "Leonardo Cruz",
      "userId": "16069636580170791409"
     },
     "user_tz": 180
    },
    "id": "0mLi2hfCzqBK",
    "outputId": "edcdc66d-e38f-4519-f472-e9d9a7da26a9"
   },
   "outputs": [
    {
     "data": {
      "text/plain": [
       "Current Age               0.0\n",
       "Birth Month               0.0\n",
       "Gender                    0.0\n",
       "City                      0.0\n",
       "State                     0.0\n",
       "Yearly Income - Person    0.0\n",
       "Total Debt                0.0\n",
       "FICO Score                0.0\n",
       "Num Credit Cards          0.0\n",
       "dtype: float64"
      ]
     },
     "execution_count": 23,
     "metadata": {},
     "output_type": "execute_result"
    }
   ],
   "source": [
    "# exclusão de colunas com valores faltantes ou não significativos para a determinação da fraude\n",
    "# O campo 'Apartament' foi excluído já que o mesmo apresenta dados faltantes e não é relevante para a busca por fraudes\n",
    "# Os campos 'Retirement Age', 'Birth Year' e 'Birth Month' foram excluídos já que a informação da data de nascimento já consta no campo 'Current Age'\n",
    "# Os campos 'Address', 'Zipcode', 'Latitude', 'Longitude', 'Per Capita Income - Zipcode' foram retirados pois não são relevantes para a busca por fraudes\n",
    "usuarios = usuarios.drop(columns=['Person','Retirement Age','Birth Year','Address','Apartment','Zipcode','Latitude','Longitude','Per Capita Income - Zipcode'])\n",
    "\n",
    "(usuarios.isnull().sum()/ usuarios.shape[0]).sort_values(ascending=False)"
   ]
  },
  {
   "cell_type": "markdown",
   "metadata": {
    "id": "vLVpxL0zPLYC"
   },
   "source": [
    "Dataframe \"cartoes\""
   ]
  },
  {
   "cell_type": "code",
   "execution_count": 24,
   "metadata": {
    "colab": {
     "base_uri": "https://localhost:8080/"
    },
    "executionInfo": {
     "elapsed": 406,
     "status": "ok",
     "timestamp": 1665540719483,
     "user": {
      "displayName": "Leonardo Cruz",
      "userId": "16069636580170791409"
     },
     "user_tz": 180
    },
    "id": "lFDcJJq7ybSk",
    "outputId": "78f56f43-047d-435e-ebc7-e710108428f3"
   },
   "outputs": [
    {
     "data": {
      "text/plain": [
       "User                     0.0\n",
       "CARD INDEX               0.0\n",
       "Card Brand               0.0\n",
       "Card Type                0.0\n",
       "Card Number              0.0\n",
       "Expires                  0.0\n",
       "CVV                      0.0\n",
       "Has Chip                 0.0\n",
       "Cards Issued             0.0\n",
       "Credit Limit             0.0\n",
       "Acct Open Date           0.0\n",
       "Year PIN last Changed    0.0\n",
       "Card on Dark Web         0.0\n",
       "dtype: float64"
      ]
     },
     "execution_count": 24,
     "metadata": {},
     "output_type": "execute_result"
    }
   ],
   "source": [
    "# ver os valores faltantes das colunas\n",
    "(cartoes.isnull().sum()/ cartoes.shape[0]).sort_values(ascending=False)"
   ]
  },
  {
   "cell_type": "code",
   "execution_count": 25,
   "metadata": {
    "colab": {
     "base_uri": "https://localhost:8080/"
    },
    "executionInfo": {
     "elapsed": 277,
     "status": "ok",
     "timestamp": 1665540723624,
     "user": {
      "displayName": "Leonardo Cruz",
      "userId": "16069636580170791409"
     },
     "user_tz": 180
    },
    "id": "U9tmxYM5PVYO",
    "outputId": "71c53e9f-ec6a-44c0-a7fe-4e80ddfc91c9"
   },
   "outputs": [
    {
     "data": {
      "text/plain": [
       "User                     0.0\n",
       "CARD INDEX               0.0\n",
       "Card Brand               0.0\n",
       "Card Type                0.0\n",
       "Card Number              0.0\n",
       "Expires                  0.0\n",
       "CVV                      0.0\n",
       "Has Chip                 0.0\n",
       "Cards Issued             0.0\n",
       "Credit Limit             0.0\n",
       "Acct Open Date           0.0\n",
       "Year PIN last Changed    0.0\n",
       "Card on Dark Web         0.0\n",
       "dtype: float64"
      ]
     },
     "execution_count": 25,
     "metadata": {},
     "output_type": "execute_result"
    }
   ],
   "source": [
    "# exclusão de colunas com valores faltantes ou não significantes\n",
    "# O campo 'Cards Issued' foi excluído por não ser relevante na busca por fraudes\n",
    "#cartoes = cartoes.drop(columns=['Cards Issued'])\n",
    "\n",
    "(cartoes.isnull().sum()/ cartoes.shape[0]).sort_values(ascending=False)"
   ]
  },
  {
   "cell_type": "markdown",
   "metadata": {
    "id": "aoNHKw6KiAl5"
   },
   "source": [
    "# **Mineração de dados (Data Mining)**"
   ]
  },
  {
   "cell_type": "markdown",
   "metadata": {
    "id": "VOoL6vs86jga"
   },
   "source": [
    "DataSet de Transações com limite de 28.882 linhas (Por conta do tamanho do arquivo, a exigência de memória RAM no Colab, e o tempo de execução do script de junção,  o mesmo foi limitado as transações de 2 usuários, ou seja,  28.882 transações)"
   ]
  },
  {
   "cell_type": "code",
   "execution_count": 26,
   "metadata": {
    "id": "bCkineXx5YMW"
   },
   "outputs": [],
   "source": [
    "# Cópia para novo dataframe\n",
    "transacoes_new = transacoes.copy();"
   ]
  },
  {
   "cell_type": "code",
   "execution_count": 27,
   "metadata": {
    "id": "0iXJ-3iF5irM"
   },
   "outputs": [],
   "source": [
    "# Limitação do número de transações para não ultrapassar a memória RAM da ferramenta Colab durante o trabalho\n",
    "transacoes_new.query('User == 0 or User == 1', inplace=True)"
   ]
  },
  {
   "cell_type": "markdown",
   "metadata": {
    "id": "-1_iWepfSJYQ"
   },
   "source": [
    "# **Criação de Dateframe Único**"
   ]
  },
  {
   "cell_type": "markdown",
   "metadata": {
    "id": "MGxwLn97i3YH"
   },
   "source": [
    "Ao se analisar os dados do dataset \"usuarios\" notou-se que os mesmos não são relevantes para a determinação de fraudes, já que os mesmos dados não variam para todas as transações, sejam elas fraudes ou não. Isso se dá pela modelagem relacional feita nos dataset's originais. \n",
    "Desta forma, optou-se por não incluir as informações do dataset \"usuario\" no arquivo único final."
   ]
  },
  {
   "cell_type": "markdown",
   "metadata": {
    "id": "85cfCcShgISs"
   },
   "source": [
    "Junção dos Dataframes \"transacao\", \"usuarios\" e \"cartoes\""
   ]
  },
  {
   "cell_type": "code",
   "execution_count": 28,
   "metadata": {
    "id": "wyOpe8eoqjiH"
   },
   "outputs": [],
   "source": [
    "# Cópia do dataset \"cartoes\" para novo dataset de trabalho. \n",
    "new_cartoes = cartoes.copy(deep=True);\n",
    "\n",
    "# Alteração do nome da coluna \"CARD INDEX\" para simplificação no algortimo posterior de busca\n",
    "new_cartoes = new_cartoes.rename(columns={\"CARD INDEX\":\"Card\"})\n",
    "\n",
    "# Criação de chave de índice no dataset \"new_cartoes\" para busca dos dados dos cartões\n",
    "new_cartoes.set_index(['User','Card'], inplace=True)"
   ]
  },
  {
   "cell_type": "code",
   "execution_count": 29,
   "metadata": {
    "colab": {
     "base_uri": "https://localhost:8080/"
    },
    "executionInfo": {
     "elapsed": 162068,
     "status": "ok",
     "timestamp": 1665540899446,
     "user": {
      "displayName": "Leonardo Cruz",
      "userId": "16069636580170791409"
     },
     "user_tz": 180
    },
    "id": "N5ofipMySNzo",
    "outputId": "e74a45aa-5ed5-47d3-bfed-69862efd1920"
   },
   "outputs": [
    {
     "name": "stdout",
     "output_type": "stream",
     "text": [
      "Início: 2022-10-15 16:30:13.562554\n",
      "Fim...: 2022-10-15 16:31:55.789952\n"
     ]
    }
   ],
   "source": [
    "# Algoritmo criado para buscar informações dos cartões para cada transação no dataset \"transacoes_new\"\n",
    "print('Início:',datetime.now())\n",
    "data_frame_juncao = pd.DataFrame()\n",
    "# Iterando sobre transacoes_new  (Essa iteração demora cerca de 4 minutos e trinta segundos)\n",
    "for i in transacoes_new.itertuples():\n",
    "  colunas = pd.DataFrame({\n",
    "  'bandeira' : [new_cartoes.loc[(i.User,i.Card),'Card Brand']],\n",
    "  'tipo' : [new_cartoes.loc[(i.User,i.Card),'Card Type']],\n",
    "  'tem_chip' : [new_cartoes.loc[(i.User,i.Card),'Has Chip']],\n",
    "  'limite_credito' : [new_cartoes.loc[(i.User,i.Card),'Credit Limit']],\n",
    "  'ano_ultima_mudanca_pin' : [new_cartoes.loc[(i.User,i.Card),'Year PIN last Changed']],\n",
    "  'dark_web' : [new_cartoes.loc[(i.User,i.Card),'Card on Dark Web']]\n",
    "  })\n",
    "  data_frame_juncao = pd.concat([colunas,data_frame_juncao]).reset_index(drop=True)\n",
    "\n",
    "print('Fim...:',datetime.now())"
   ]
  },
  {
   "cell_type": "code",
   "execution_count": 30,
   "metadata": {
    "id": "aQUCXZZrEWHy"
   },
   "outputs": [],
   "source": [
    "# Criação do arquivo unificado de transações e dados de cartões\n",
    "arquivo_unificado = transacoes_new.copy() \n",
    "arquivo_unificado['bandeira'] = data_frame_juncao['bandeira']\n",
    "arquivo_unificado['tipo'] = data_frame_juncao['tipo']\n",
    "arquivo_unificado['tem_chip'] = data_frame_juncao['tem_chip']\n",
    "arquivo_unificado['limite_credito'] = data_frame_juncao['limite_credito']\n",
    "arquivo_unificado['ano_ultima_mudanca_pin'] = data_frame_juncao['ano_ultima_mudanca_pin']\n",
    "arquivo_unificado['dark_web'] = data_frame_juncao['dark_web']\n"
   ]
  },
  {
   "cell_type": "code",
   "execution_count": 31,
   "metadata": {
    "colab": {
     "base_uri": "https://localhost:8080/"
    },
    "executionInfo": {
     "elapsed": 706,
     "status": "ok",
     "timestamp": 1665540908811,
     "user": {
      "displayName": "Leonardo Cruz",
      "userId": "16069636580170791409"
     },
     "user_tz": 180
    },
    "id": "uRm3MxDLWfsy",
    "outputId": "44bb18f9-8c7e-4086-bd30-e2cdf0209dba"
   },
   "outputs": [
    {
     "data": {
      "text/plain": [
       "User                      0.0\n",
       "Card                      0.0\n",
       "Year                      0.0\n",
       "Month                     0.0\n",
       "Day                       0.0\n",
       "Time                      0.0\n",
       "Amount                    0.0\n",
       "Use Chip                  0.0\n",
       "MCC                       0.0\n",
       "Is Fraud?                 0.0\n",
       "bandeira                  0.0\n",
       "tipo                      0.0\n",
       "tem_chip                  0.0\n",
       "limite_credito            0.0\n",
       "ano_ultima_mudanca_pin    0.0\n",
       "dark_web                  0.0\n",
       "dtype: float64"
      ]
     },
     "execution_count": 31,
     "metadata": {},
     "output_type": "execute_result"
    }
   ],
   "source": [
    "# Verificando existência de valores vazios\n",
    "(arquivo_unificado.isnull().sum()/ arquivo_unificado.shape[0]).sort_values(ascending=False)"
   ]
  },
  {
   "cell_type": "code",
   "execution_count": 32,
   "metadata": {
    "colab": {
     "base_uri": "https://localhost:8080/"
    },
    "executionInfo": {
     "elapsed": 330,
     "status": "ok",
     "timestamp": 1665540935384,
     "user": {
      "displayName": "Leonardo Cruz",
      "userId": "16069636580170791409"
     },
     "user_tz": 180
    },
    "id": "OO8Wbk9yHILA",
    "outputId": "a43a6732-485d-4646-8cdc-9bb685170703"
   },
   "outputs": [
    {
     "name": "stdout",
     "output_type": "stream",
     "text": [
      "16\n"
     ]
    }
   ],
   "source": [
    "# Movendo coluna Fraude para o final\n",
    "arquivo_unificado_antigo = arquivo_unificado.copy()\n",
    "cols = arquivo_unificado.shape[1]\n",
    "print(cols)\n",
    "\n",
    "coluna_fraude = arquivo_unificado.pop('Is Fraud?')\n",
    "\n",
    "arquivo_unificado.insert(15,'Fraud',coluna_fraude)"
   ]
  },
  {
   "cell_type": "code",
   "execution_count": 33,
   "metadata": {
    "id": "bDwAC_X57d6M"
   },
   "outputs": [],
   "source": [
    "# Persistência do arquivo unificado no drive do presente usuário\n",
    "arquivo_unificado.to_csv('arquivo_unificado.csv')"
   ]
  },
  {
   "cell_type": "code",
   "execution_count": 34,
   "metadata": {
    "colab": {
     "base_uri": "https://localhost:8080/"
    },
    "executionInfo": {
     "elapsed": 261,
     "status": "ok",
     "timestamp": 1665540943225,
     "user": {
      "displayName": "Leonardo Cruz",
      "userId": "16069636580170791409"
     },
     "user_tz": 180
    },
    "id": "at7tepg2f4g2",
    "outputId": "735d463b-b211-4f0a-a22d-d331735ce226"
   },
   "outputs": [
    {
     "data": {
      "text/plain": [
       "User                      0.0\n",
       "Card                      0.0\n",
       "Year                      0.0\n",
       "Month                     0.0\n",
       "Day                       0.0\n",
       "Time                      0.0\n",
       "Amount                    0.0\n",
       "Use Chip                  0.0\n",
       "MCC                       0.0\n",
       "bandeira                  0.0\n",
       "tipo                      0.0\n",
       "tem_chip                  0.0\n",
       "limite_credito            0.0\n",
       "ano_ultima_mudanca_pin    0.0\n",
       "dark_web                  0.0\n",
       "Fraud                     0.0\n",
       "dtype: float64"
      ]
     },
     "execution_count": 34,
     "metadata": {},
     "output_type": "execute_result"
    }
   ],
   "source": [
    "(arquivo_unificado.isnull().sum()/ arquivo_unificado.shape[0]).sort_values(ascending=False)"
   ]
  },
  {
   "cell_type": "markdown",
   "metadata": {
    "id": "V4nEy-IkE1gm"
   },
   "source": [
    "# **Feature Engineering - Alteração dos tipos das colunas**\n"
   ]
  },
  {
   "cell_type": "markdown",
   "metadata": {
    "id": "Bq3-7ZUAGj-u"
   },
   "source": [
    "**Variáveis Objeto**"
   ]
  },
  {
   "cell_type": "markdown",
   "metadata": {
    "id": "IIiVUtVZGmBH"
   },
   "source": [
    "1. Transformação da coluna \"Fraud\" para formato binário (1 ou 0) "
   ]
  },
  {
   "cell_type": "code",
   "execution_count": 35,
   "metadata": {
    "id": "TR6afHibIKXZ"
   },
   "outputs": [],
   "source": [
    "# Altera-se o tipo utilizando uma nova série\n",
    "# Exclui-se a classe antiga \"Fraud\"\n",
    "# Insere a nova classe \"Fraude\"\n",
    "arquivo_fraude = pd.Series(np.where(arquivo_unificado['Fraud']=='Yes',1,0))\n",
    "arquivo_unificado.insert(15,'Fraude',arquivo_fraude) \n",
    "arquivo_unificado.pop('Fraud')\n",
    "arquivo_unificado_antigo.insert(15,'Fraud',arquivo_fraude)"
   ]
  },
  {
   "cell_type": "code",
   "execution_count": 36,
   "metadata": {
    "colab": {
     "base_uri": "https://localhost:8080/"
    },
    "executionInfo": {
     "elapsed": 271,
     "status": "ok",
     "timestamp": 1665540956869,
     "user": {
      "displayName": "Leonardo Cruz",
      "userId": "16069636580170791409"
     },
     "user_tz": 180
    },
    "id": "3HXuqsqzm__m",
    "outputId": "0075f3e5-e2f2-4ae3-b23e-b68b8e366df6"
   },
   "outputs": [
    {
     "data": {
      "text/plain": [
       "User                      0.0\n",
       "Card                      0.0\n",
       "Year                      0.0\n",
       "Month                     0.0\n",
       "Day                       0.0\n",
       "Time                      0.0\n",
       "Amount                    0.0\n",
       "Use Chip                  0.0\n",
       "MCC                       0.0\n",
       "bandeira                  0.0\n",
       "tipo                      0.0\n",
       "tem_chip                  0.0\n",
       "limite_credito            0.0\n",
       "ano_ultima_mudanca_pin    0.0\n",
       "dark_web                  0.0\n",
       "Fraude                    0.0\n",
       "dtype: float64"
      ]
     },
     "execution_count": 36,
     "metadata": {},
     "output_type": "execute_result"
    }
   ],
   "source": [
    "(arquivo_unificado.isnull().sum()/ arquivo_unificado.shape[0]).sort_values(ascending=False)"
   ]
  },
  {
   "cell_type": "code",
   "execution_count": 37,
   "metadata": {
    "colab": {
     "base_uri": "https://localhost:8080/"
    },
    "executionInfo": {
     "elapsed": 284,
     "status": "ok",
     "timestamp": 1665540961629,
     "user": {
      "displayName": "Leonardo Cruz",
      "userId": "16069636580170791409"
     },
     "user_tz": 180
    },
    "id": "ayiiqq_KSSCC",
    "outputId": "f8942149-088d-4494-ff48-36dc15bb7b2b"
   },
   "outputs": [
    {
     "data": {
      "text/plain": [
       "0    28822\n",
       "1       60\n",
       "dtype: int64"
      ]
     },
     "execution_count": 37,
     "metadata": {},
     "output_type": "execute_result"
    }
   ],
   "source": [
    "# Verificação da série criada\n",
    "arquivo_fraude.value_counts()"
   ]
  },
  {
   "cell_type": "markdown",
   "metadata": {
    "id": "MqdusJsWKt8N"
   },
   "source": [
    "2. Transformação da coluna \"tem_chip\" para o formato binário (1 ou 0)"
   ]
  },
  {
   "cell_type": "code",
   "execution_count": 38,
   "metadata": {
    "id": "VYeNfIChKzZk"
   },
   "outputs": [],
   "source": [
    "chip = pd.Series(np.where(arquivo_unificado['tem_chip']=='YES',1,0))\n",
    "arquivo_unificado.pop('tem_chip')\n",
    "arquivo_unificado.insert(10,'tem_chip',chip)"
   ]
  },
  {
   "cell_type": "markdown",
   "metadata": {
    "id": "UWGwpB2SLVFK"
   },
   "source": [
    "3. Transformação da coluna \"dark_web\" para formato binário (1 ou 0)"
   ]
  },
  {
   "cell_type": "code",
   "execution_count": 39,
   "metadata": {
    "id": "12FkTo12LSDU"
   },
   "outputs": [],
   "source": [
    "dark_web = pd.Series(np.where(arquivo_unificado['dark_web']=='No',0,1))\n",
    "arquivo_unificado.pop('dark_web')\n",
    "arquivo_unificado.insert(10,'dark_web',dark_web)"
   ]
  },
  {
   "cell_type": "markdown",
   "metadata": {
    "id": "jvrhg0hoGA10"
   },
   "source": [
    " 4.   Alteração do tipo de dados da coluna \"Amount\" de Object para Float64."
   ]
  },
  {
   "cell_type": "code",
   "execution_count": 40,
   "metadata": {
    "colab": {
     "base_uri": "https://localhost:8080/"
    },
    "executionInfo": {
     "elapsed": 285,
     "status": "ok",
     "timestamp": 1665540973467,
     "user": {
      "displayName": "Leonardo Cruz",
      "userId": "16069636580170791409"
     },
     "user_tz": 180
    },
    "id": "JZ9YHujoDtE3",
    "outputId": "97c0f44f-7572-48dc-cd81-e1dfd4f59351"
   },
   "outputs": [
    {
     "name": "stdout",
     "output_type": "stream",
     "text": [
      "\n",
      "Tipos dos dados:\n",
      "User                        int64\n",
      "Card                        int64\n",
      "Year                        int64\n",
      "Month                       int64\n",
      "Day                         int64\n",
      "Time                       object\n",
      "Amount                    float64\n",
      "Use Chip                   object\n",
      "MCC                         int64\n",
      "bandeira                   object\n",
      "dark_web                    int32\n",
      "tem_chip                    int32\n",
      "tipo                       object\n",
      "limite_credito             object\n",
      "ano_ultima_mudanca_pin      int64\n",
      "Fraude                      int32\n",
      "dtype: object\n",
      "\n"
     ]
    }
   ],
   "source": [
    "arquivo_unificado['Amount'] = arquivo_unificado['Amount'].str.replace('$','').astype(np.float64)\n",
    "arquivo_unificado_antigo['Amount'] = arquivo_unificado_antigo['Amount'].str.replace('$','').astype(np.float64)\n",
    "print(\"\\nTipos dos dados:\\n{0}\\n\".format(arquivo_unificado.dtypes))"
   ]
  },
  {
   "cell_type": "markdown",
   "metadata": {
    "id": "TixMb04mMWfa"
   },
   "source": [
    "5. Alteração do tipo de dados da coluna \"limite_credito\" de Object para Float64"
   ]
  },
  {
   "cell_type": "code",
   "execution_count": 41,
   "metadata": {
    "colab": {
     "base_uri": "https://localhost:8080/"
    },
    "executionInfo": {
     "elapsed": 277,
     "status": "ok",
     "timestamp": 1665540979124,
     "user": {
      "displayName": "Leonardo Cruz",
      "userId": "16069636580170791409"
     },
     "user_tz": 180
    },
    "id": "AfFiVju_MbJF",
    "outputId": "104fe7a4-c5ed-4637-8baf-58c6b8453878"
   },
   "outputs": [
    {
     "name": "stdout",
     "output_type": "stream",
     "text": [
      "\n",
      "Tipos dos dados:\n",
      "User                        int64\n",
      "Card                        int64\n",
      "Year                        int64\n",
      "Month                       int64\n",
      "Day                         int64\n",
      "Time                       object\n",
      "Amount                    float64\n",
      "Use Chip                   object\n",
      "MCC                         int64\n",
      "bandeira                   object\n",
      "dark_web                    int32\n",
      "tem_chip                    int32\n",
      "tipo                       object\n",
      "limite_credito            float64\n",
      "ano_ultima_mudanca_pin      int64\n",
      "Fraude                      int32\n",
      "dtype: object\n",
      "\n"
     ]
    }
   ],
   "source": [
    "arquivo_unificado['limite_credito'] = arquivo_unificado['limite_credito'].str.replace('$','').astype(np.float64)\n",
    "print(\"\\nTipos dos dados:\\n{0}\\n\".format(arquivo_unificado.dtypes))"
   ]
  },
  {
   "cell_type": "markdown",
   "metadata": {
    "id": "hNa5gtR5GdtS"
   },
   "source": [
    "**Verificando tipo de variáveis**"
   ]
  },
  {
   "cell_type": "markdown",
   "metadata": {
    "id": "GLC_wVbSKA1W"
   },
   "source": [
    "Variáveis categóricas"
   ]
  },
  {
   "cell_type": "code",
   "execution_count": 42,
   "metadata": {
    "colab": {
     "base_uri": "https://localhost:8080/",
     "height": 424
    },
    "executionInfo": {
     "elapsed": 310,
     "status": "ok",
     "timestamp": 1665540982686,
     "user": {
      "displayName": "Leonardo Cruz",
      "userId": "16069636580170791409"
     },
     "user_tz": 180
    },
    "id": "deMSg_DgGI4D",
    "outputId": "861a97ce-2dcc-49cf-ad61-ba35fbe0e5d8"
   },
   "outputs": [
    {
     "data": {
      "text/html": [
       "<div>\n",
       "<style scoped>\n",
       "    .dataframe tbody tr th:only-of-type {\n",
       "        vertical-align: middle;\n",
       "    }\n",
       "\n",
       "    .dataframe tbody tr th {\n",
       "        vertical-align: top;\n",
       "    }\n",
       "\n",
       "    .dataframe thead th {\n",
       "        text-align: right;\n",
       "    }\n",
       "</style>\n",
       "<table border=\"1\" class=\"dataframe\">\n",
       "  <thead>\n",
       "    <tr style=\"text-align: right;\">\n",
       "      <th></th>\n",
       "      <th>Time</th>\n",
       "      <th>Use Chip</th>\n",
       "      <th>bandeira</th>\n",
       "      <th>tipo</th>\n",
       "    </tr>\n",
       "  </thead>\n",
       "  <tbody>\n",
       "    <tr>\n",
       "      <th>0</th>\n",
       "      <td>06:21</td>\n",
       "      <td>Swipe Transaction</td>\n",
       "      <td>Mastercard</td>\n",
       "      <td>Debit (Prepaid)</td>\n",
       "    </tr>\n",
       "    <tr>\n",
       "      <th>1</th>\n",
       "      <td>06:42</td>\n",
       "      <td>Swipe Transaction</td>\n",
       "      <td>Mastercard</td>\n",
       "      <td>Debit (Prepaid)</td>\n",
       "    </tr>\n",
       "    <tr>\n",
       "      <th>2</th>\n",
       "      <td>06:22</td>\n",
       "      <td>Swipe Transaction</td>\n",
       "      <td>Mastercard</td>\n",
       "      <td>Debit (Prepaid)</td>\n",
       "    </tr>\n",
       "    <tr>\n",
       "      <th>3</th>\n",
       "      <td>17:45</td>\n",
       "      <td>Swipe Transaction</td>\n",
       "      <td>Mastercard</td>\n",
       "      <td>Debit (Prepaid)</td>\n",
       "    </tr>\n",
       "    <tr>\n",
       "      <th>4</th>\n",
       "      <td>06:23</td>\n",
       "      <td>Swipe Transaction</td>\n",
       "      <td>Mastercard</td>\n",
       "      <td>Debit (Prepaid)</td>\n",
       "    </tr>\n",
       "    <tr>\n",
       "      <th>...</th>\n",
       "      <td>...</td>\n",
       "      <td>...</td>\n",
       "      <td>...</td>\n",
       "      <td>...</td>\n",
       "    </tr>\n",
       "    <tr>\n",
       "      <th>28877</th>\n",
       "      <td>06:52</td>\n",
       "      <td>Chip Transaction</td>\n",
       "      <td>Visa</td>\n",
       "      <td>Debit</td>\n",
       "    </tr>\n",
       "    <tr>\n",
       "      <th>28878</th>\n",
       "      <td>13:03</td>\n",
       "      <td>Online Transaction</td>\n",
       "      <td>Visa</td>\n",
       "      <td>Debit</td>\n",
       "    </tr>\n",
       "    <tr>\n",
       "      <th>28879</th>\n",
       "      <td>06:56</td>\n",
       "      <td>Chip Transaction</td>\n",
       "      <td>Visa</td>\n",
       "      <td>Debit</td>\n",
       "    </tr>\n",
       "    <tr>\n",
       "      <th>28880</th>\n",
       "      <td>13:03</td>\n",
       "      <td>Chip Transaction</td>\n",
       "      <td>Visa</td>\n",
       "      <td>Debit</td>\n",
       "    </tr>\n",
       "    <tr>\n",
       "      <th>28881</th>\n",
       "      <td>13:11</td>\n",
       "      <td>Online Transaction</td>\n",
       "      <td>Visa</td>\n",
       "      <td>Debit</td>\n",
       "    </tr>\n",
       "  </tbody>\n",
       "</table>\n",
       "<p>28882 rows × 4 columns</p>\n",
       "</div>"
      ],
      "text/plain": [
       "        Time            Use Chip    bandeira             tipo\n",
       "0      06:21   Swipe Transaction  Mastercard  Debit (Prepaid)\n",
       "1      06:42   Swipe Transaction  Mastercard  Debit (Prepaid)\n",
       "2      06:22   Swipe Transaction  Mastercard  Debit (Prepaid)\n",
       "3      17:45   Swipe Transaction  Mastercard  Debit (Prepaid)\n",
       "4      06:23   Swipe Transaction  Mastercard  Debit (Prepaid)\n",
       "...      ...                 ...         ...              ...\n",
       "28877  06:52    Chip Transaction        Visa            Debit\n",
       "28878  13:03  Online Transaction        Visa            Debit\n",
       "28879  06:56    Chip Transaction        Visa            Debit\n",
       "28880  13:03    Chip Transaction        Visa            Debit\n",
       "28881  13:11  Online Transaction        Visa            Debit\n",
       "\n",
       "[28882 rows x 4 columns]"
      ]
     },
     "execution_count": 42,
     "metadata": {},
     "output_type": "execute_result"
    }
   ],
   "source": [
    "arquivo_unificado.select_dtypes(include='object')"
   ]
  },
  {
   "cell_type": "markdown",
   "metadata": {
    "id": "wq3J3l1Rs3sw"
   },
   "source": [
    "Transformando variáveis categóricas em Array de variáveis binárias"
   ]
  },
  {
   "cell_type": "code",
   "execution_count": 43,
   "metadata": {
    "colab": {
     "base_uri": "https://localhost:8080/"
    },
    "executionInfo": {
     "elapsed": 270,
     "status": "ok",
     "timestamp": 1665540986935,
     "user": {
      "displayName": "Leonardo Cruz",
      "userId": "16069636580170791409"
     },
     "user_tz": 180
    },
    "id": "tkPxh6-4KEMc",
    "outputId": "6be062e8-f15f-431d-c043-40dcef76e2c4"
   },
   "outputs": [
    {
     "data": {
      "text/plain": [
       "array(['Use Chip_Chip Transaction', 'Use Chip_Online Transaction',\n",
       "       'Use Chip_Swipe Transaction', 'bandeira_Mastercard',\n",
       "       'bandeira_Visa', 'tipo_Credit', 'tipo_Debit',\n",
       "       'tipo_Debit (Prepaid)'], dtype=object)"
      ]
     },
     "execution_count": 43,
     "metadata": {},
     "output_type": "execute_result"
    }
   ],
   "source": [
    "# Utiliando OneHotEncoder para transformar as variáveis categóricas\n",
    "#     O parâmetro Handle_unknown = ignore, especifica a maneira que categorias desconhecidas serão implementadas. \n",
    "#     Neste caso esse tipo de coluna receberá valores \"0\" (zero)\n",
    "encode = OneHotEncoder(handle_unknown='ignore')\n",
    "colunas_encodar = ['Use Chip','bandeira','tipo']\n",
    "encode.fit(arquivo_unificado[colunas_encodar])\n",
    "encode.get_feature_names(colunas_encodar)"
   ]
  },
  {
   "cell_type": "code",
   "execution_count": 44,
   "metadata": {
    "id": "zhdlKEEINSdk"
   },
   "outputs": [],
   "source": [
    "# Aplica o Encode criando as colunas com o tipo Int\n",
    "arquivo_unificado_encodado = pd.DataFrame(encode.transform(arquivo_unificado[colunas_encodar]).toarray()).astype('int')\n",
    "arquivo_unificado_encodado.columns = encode.get_feature_names(colunas_encodar)"
   ]
  },
  {
   "cell_type": "code",
   "execution_count": 45,
   "metadata": {
    "colab": {
     "base_uri": "https://localhost:8080/",
     "height": 442
    },
    "executionInfo": {
     "elapsed": 298,
     "status": "ok",
     "timestamp": 1665540992612,
     "user": {
      "displayName": "Leonardo Cruz",
      "userId": "16069636580170791409"
     },
     "user_tz": 180
    },
    "id": "CHG_OekoNqSI",
    "outputId": "6e283a46-606c-410e-d0b6-0681ed7d3058"
   },
   "outputs": [
    {
     "data": {
      "text/html": [
       "<div>\n",
       "<style scoped>\n",
       "    .dataframe tbody tr th:only-of-type {\n",
       "        vertical-align: middle;\n",
       "    }\n",
       "\n",
       "    .dataframe tbody tr th {\n",
       "        vertical-align: top;\n",
       "    }\n",
       "\n",
       "    .dataframe thead th {\n",
       "        text-align: right;\n",
       "    }\n",
       "</style>\n",
       "<table border=\"1\" class=\"dataframe\">\n",
       "  <thead>\n",
       "    <tr style=\"text-align: right;\">\n",
       "      <th></th>\n",
       "      <th>Use Chip_Chip Transaction</th>\n",
       "      <th>Use Chip_Online Transaction</th>\n",
       "      <th>Use Chip_Swipe Transaction</th>\n",
       "      <th>bandeira_Mastercard</th>\n",
       "      <th>bandeira_Visa</th>\n",
       "      <th>tipo_Credit</th>\n",
       "      <th>tipo_Debit</th>\n",
       "      <th>tipo_Debit (Prepaid)</th>\n",
       "    </tr>\n",
       "  </thead>\n",
       "  <tbody>\n",
       "    <tr>\n",
       "      <th>22396</th>\n",
       "      <td>0</td>\n",
       "      <td>0</td>\n",
       "      <td>1</td>\n",
       "      <td>0</td>\n",
       "      <td>1</td>\n",
       "      <td>0</td>\n",
       "      <td>1</td>\n",
       "      <td>0</td>\n",
       "    </tr>\n",
       "    <tr>\n",
       "      <th>12606</th>\n",
       "      <td>0</td>\n",
       "      <td>0</td>\n",
       "      <td>1</td>\n",
       "      <td>0</td>\n",
       "      <td>1</td>\n",
       "      <td>1</td>\n",
       "      <td>0</td>\n",
       "      <td>0</td>\n",
       "    </tr>\n",
       "    <tr>\n",
       "      <th>6686</th>\n",
       "      <td>0</td>\n",
       "      <td>0</td>\n",
       "      <td>1</td>\n",
       "      <td>1</td>\n",
       "      <td>0</td>\n",
       "      <td>0</td>\n",
       "      <td>1</td>\n",
       "      <td>0</td>\n",
       "    </tr>\n",
       "    <tr>\n",
       "      <th>8158</th>\n",
       "      <td>0</td>\n",
       "      <td>0</td>\n",
       "      <td>1</td>\n",
       "      <td>0</td>\n",
       "      <td>1</td>\n",
       "      <td>0</td>\n",
       "      <td>1</td>\n",
       "      <td>0</td>\n",
       "    </tr>\n",
       "    <tr>\n",
       "      <th>95</th>\n",
       "      <td>0</td>\n",
       "      <td>0</td>\n",
       "      <td>1</td>\n",
       "      <td>1</td>\n",
       "      <td>0</td>\n",
       "      <td>0</td>\n",
       "      <td>0</td>\n",
       "      <td>1</td>\n",
       "    </tr>\n",
       "    <tr>\n",
       "      <th>17302</th>\n",
       "      <td>0</td>\n",
       "      <td>0</td>\n",
       "      <td>1</td>\n",
       "      <td>0</td>\n",
       "      <td>1</td>\n",
       "      <td>1</td>\n",
       "      <td>0</td>\n",
       "      <td>0</td>\n",
       "    </tr>\n",
       "    <tr>\n",
       "      <th>27994</th>\n",
       "      <td>0</td>\n",
       "      <td>0</td>\n",
       "      <td>1</td>\n",
       "      <td>0</td>\n",
       "      <td>1</td>\n",
       "      <td>0</td>\n",
       "      <td>1</td>\n",
       "      <td>0</td>\n",
       "    </tr>\n",
       "    <tr>\n",
       "      <th>5302</th>\n",
       "      <td>1</td>\n",
       "      <td>0</td>\n",
       "      <td>0</td>\n",
       "      <td>1</td>\n",
       "      <td>0</td>\n",
       "      <td>0</td>\n",
       "      <td>1</td>\n",
       "      <td>0</td>\n",
       "    </tr>\n",
       "    <tr>\n",
       "      <th>9140</th>\n",
       "      <td>0</td>\n",
       "      <td>0</td>\n",
       "      <td>1</td>\n",
       "      <td>0</td>\n",
       "      <td>1</td>\n",
       "      <td>1</td>\n",
       "      <td>0</td>\n",
       "      <td>0</td>\n",
       "    </tr>\n",
       "    <tr>\n",
       "      <th>10080</th>\n",
       "      <td>1</td>\n",
       "      <td>0</td>\n",
       "      <td>0</td>\n",
       "      <td>0</td>\n",
       "      <td>1</td>\n",
       "      <td>1</td>\n",
       "      <td>0</td>\n",
       "      <td>0</td>\n",
       "    </tr>\n",
       "  </tbody>\n",
       "</table>\n",
       "</div>"
      ],
      "text/plain": [
       "       Use Chip_Chip Transaction  Use Chip_Online Transaction  \\\n",
       "22396                          0                            0   \n",
       "12606                          0                            0   \n",
       "6686                           0                            0   \n",
       "8158                           0                            0   \n",
       "95                             0                            0   \n",
       "17302                          0                            0   \n",
       "27994                          0                            0   \n",
       "5302                           1                            0   \n",
       "9140                           0                            0   \n",
       "10080                          1                            0   \n",
       "\n",
       "       Use Chip_Swipe Transaction  bandeira_Mastercard  bandeira_Visa  \\\n",
       "22396                           1                    0              1   \n",
       "12606                           1                    0              1   \n",
       "6686                            1                    1              0   \n",
       "8158                            1                    0              1   \n",
       "95                              1                    1              0   \n",
       "17302                           1                    0              1   \n",
       "27994                           1                    0              1   \n",
       "5302                            0                    1              0   \n",
       "9140                            1                    0              1   \n",
       "10080                           0                    0              1   \n",
       "\n",
       "       tipo_Credit  tipo_Debit  tipo_Debit (Prepaid)  \n",
       "22396            0           1                     0  \n",
       "12606            1           0                     0  \n",
       "6686             0           1                     0  \n",
       "8158             0           1                     0  \n",
       "95               0           0                     1  \n",
       "17302            1           0                     0  \n",
       "27994            0           1                     0  \n",
       "5302             0           1                     0  \n",
       "9140             1           0                     0  \n",
       "10080            1           0                     0  "
      ]
     },
     "execution_count": 45,
     "metadata": {},
     "output_type": "execute_result"
    }
   ],
   "source": [
    "arquivo_unificado_encodado.sample(10)"
   ]
  },
  {
   "cell_type": "code",
   "execution_count": 46,
   "metadata": {
    "colab": {
     "base_uri": "https://localhost:8080/"
    },
    "executionInfo": {
     "elapsed": 276,
     "status": "ok",
     "timestamp": 1665540995985,
     "user": {
      "displayName": "Leonardo Cruz",
      "userId": "16069636580170791409"
     },
     "user_tz": 180
    },
    "id": "gRxoH59e3QTF",
    "outputId": "f12cb9dd-6abf-4121-f0da-0295948b3325"
   },
   "outputs": [
    {
     "name": "stdout",
     "output_type": "stream",
     "text": [
      "\n",
      "Tipos dos dados:\n",
      "User                        int64\n",
      "Card                        int64\n",
      "Year                        int64\n",
      "Month                       int64\n",
      "Day                         int64\n",
      "Time                       object\n",
      "Amount                    float64\n",
      "Use Chip                   object\n",
      "MCC                         int64\n",
      "bandeira                   object\n",
      "dark_web                    int32\n",
      "tem_chip                    int32\n",
      "tipo                       object\n",
      "limite_credito            float64\n",
      "ano_ultima_mudanca_pin      int64\n",
      "Fraude                      int32\n",
      "dtype: object\n",
      "\n"
     ]
    }
   ],
   "source": [
    "print(\"\\nTipos dos dados:\\n{0}\\n\".format(arquivo_unificado.dtypes))"
   ]
  },
  {
   "cell_type": "markdown",
   "metadata": {
    "id": "7_qbGRUssnwa"
   },
   "source": [
    "Variáveis numéricas"
   ]
  },
  {
   "cell_type": "markdown",
   "metadata": {
    "id": "C-cOcvL_u_wD"
   },
   "source": [
    "No caso das variáveis numéricas não será necessário transformações, nesse momento. "
   ]
  },
  {
   "cell_type": "code",
   "execution_count": 47,
   "metadata": {
    "colab": {
     "base_uri": "https://localhost:8080/",
     "height": 468
    },
    "executionInfo": {
     "elapsed": 274,
     "status": "ok",
     "timestamp": 1665541000421,
     "user": {
      "displayName": "Leonardo Cruz",
      "userId": "16069636580170791409"
     },
     "user_tz": 180
    },
    "id": "VjIMRerCGRAT",
    "outputId": "877cbf42-bc4e-4131-d7c6-361efbcf3db2"
   },
   "outputs": [
    {
     "data": {
      "text/html": [
       "<div>\n",
       "<style scoped>\n",
       "    .dataframe tbody tr th:only-of-type {\n",
       "        vertical-align: middle;\n",
       "    }\n",
       "\n",
       "    .dataframe tbody tr th {\n",
       "        vertical-align: top;\n",
       "    }\n",
       "\n",
       "    .dataframe thead th {\n",
       "        text-align: right;\n",
       "    }\n",
       "</style>\n",
       "<table border=\"1\" class=\"dataframe\">\n",
       "  <thead>\n",
       "    <tr style=\"text-align: right;\">\n",
       "      <th></th>\n",
       "      <th>User</th>\n",
       "      <th>Card</th>\n",
       "      <th>Year</th>\n",
       "      <th>Month</th>\n",
       "      <th>Day</th>\n",
       "      <th>Amount</th>\n",
       "      <th>MCC</th>\n",
       "      <th>dark_web</th>\n",
       "      <th>tem_chip</th>\n",
       "      <th>limite_credito</th>\n",
       "      <th>ano_ultima_mudanca_pin</th>\n",
       "      <th>Fraude</th>\n",
       "    </tr>\n",
       "  </thead>\n",
       "  <tbody>\n",
       "    <tr>\n",
       "      <th>0</th>\n",
       "      <td>0</td>\n",
       "      <td>0</td>\n",
       "      <td>2002</td>\n",
       "      <td>9</td>\n",
       "      <td>1</td>\n",
       "      <td>134.09</td>\n",
       "      <td>5300</td>\n",
       "      <td>0</td>\n",
       "      <td>1</td>\n",
       "      <td>99.0</td>\n",
       "      <td>2012</td>\n",
       "      <td>0</td>\n",
       "    </tr>\n",
       "    <tr>\n",
       "      <th>1</th>\n",
       "      <td>0</td>\n",
       "      <td>0</td>\n",
       "      <td>2002</td>\n",
       "      <td>9</td>\n",
       "      <td>1</td>\n",
       "      <td>38.48</td>\n",
       "      <td>5411</td>\n",
       "      <td>0</td>\n",
       "      <td>1</td>\n",
       "      <td>99.0</td>\n",
       "      <td>2012</td>\n",
       "      <td>0</td>\n",
       "    </tr>\n",
       "    <tr>\n",
       "      <th>2</th>\n",
       "      <td>0</td>\n",
       "      <td>0</td>\n",
       "      <td>2002</td>\n",
       "      <td>9</td>\n",
       "      <td>2</td>\n",
       "      <td>120.34</td>\n",
       "      <td>5411</td>\n",
       "      <td>0</td>\n",
       "      <td>1</td>\n",
       "      <td>99.0</td>\n",
       "      <td>2012</td>\n",
       "      <td>0</td>\n",
       "    </tr>\n",
       "    <tr>\n",
       "      <th>3</th>\n",
       "      <td>0</td>\n",
       "      <td>0</td>\n",
       "      <td>2002</td>\n",
       "      <td>9</td>\n",
       "      <td>2</td>\n",
       "      <td>128.95</td>\n",
       "      <td>5651</td>\n",
       "      <td>0</td>\n",
       "      <td>1</td>\n",
       "      <td>99.0</td>\n",
       "      <td>2012</td>\n",
       "      <td>0</td>\n",
       "    </tr>\n",
       "    <tr>\n",
       "      <th>4</th>\n",
       "      <td>0</td>\n",
       "      <td>0</td>\n",
       "      <td>2002</td>\n",
       "      <td>9</td>\n",
       "      <td>3</td>\n",
       "      <td>104.71</td>\n",
       "      <td>5912</td>\n",
       "      <td>0</td>\n",
       "      <td>1</td>\n",
       "      <td>99.0</td>\n",
       "      <td>2012</td>\n",
       "      <td>0</td>\n",
       "    </tr>\n",
       "    <tr>\n",
       "      <th>...</th>\n",
       "      <td>...</td>\n",
       "      <td>...</td>\n",
       "      <td>...</td>\n",
       "      <td>...</td>\n",
       "      <td>...</td>\n",
       "      <td>...</td>\n",
       "      <td>...</td>\n",
       "      <td>...</td>\n",
       "      <td>...</td>\n",
       "      <td>...</td>\n",
       "      <td>...</td>\n",
       "      <td>...</td>\n",
       "    </tr>\n",
       "    <tr>\n",
       "      <th>28877</th>\n",
       "      <td>1</td>\n",
       "      <td>4</td>\n",
       "      <td>2020</td>\n",
       "      <td>2</td>\n",
       "      <td>1</td>\n",
       "      <td>15.77</td>\n",
       "      <td>5541</td>\n",
       "      <td>0</td>\n",
       "      <td>1</td>\n",
       "      <td>24295.0</td>\n",
       "      <td>2008</td>\n",
       "      <td>0</td>\n",
       "    </tr>\n",
       "    <tr>\n",
       "      <th>28878</th>\n",
       "      <td>1</td>\n",
       "      <td>4</td>\n",
       "      <td>2020</td>\n",
       "      <td>2</td>\n",
       "      <td>3</td>\n",
       "      <td>51.55</td>\n",
       "      <td>4814</td>\n",
       "      <td>0</td>\n",
       "      <td>1</td>\n",
       "      <td>24295.0</td>\n",
       "      <td>2008</td>\n",
       "      <td>0</td>\n",
       "    </tr>\n",
       "    <tr>\n",
       "      <th>28879</th>\n",
       "      <td>1</td>\n",
       "      <td>4</td>\n",
       "      <td>2020</td>\n",
       "      <td>2</td>\n",
       "      <td>6</td>\n",
       "      <td>17.74</td>\n",
       "      <td>5499</td>\n",
       "      <td>0</td>\n",
       "      <td>1</td>\n",
       "      <td>24295.0</td>\n",
       "      <td>2008</td>\n",
       "      <td>0</td>\n",
       "    </tr>\n",
       "    <tr>\n",
       "      <th>28880</th>\n",
       "      <td>1</td>\n",
       "      <td>4</td>\n",
       "      <td>2020</td>\n",
       "      <td>2</td>\n",
       "      <td>11</td>\n",
       "      <td>15.10</td>\n",
       "      <td>5814</td>\n",
       "      <td>0</td>\n",
       "      <td>1</td>\n",
       "      <td>24295.0</td>\n",
       "      <td>2008</td>\n",
       "      <td>0</td>\n",
       "    </tr>\n",
       "    <tr>\n",
       "      <th>28881</th>\n",
       "      <td>1</td>\n",
       "      <td>4</td>\n",
       "      <td>2020</td>\n",
       "      <td>2</td>\n",
       "      <td>22</td>\n",
       "      <td>16.65</td>\n",
       "      <td>4814</td>\n",
       "      <td>0</td>\n",
       "      <td>1</td>\n",
       "      <td>24295.0</td>\n",
       "      <td>2008</td>\n",
       "      <td>0</td>\n",
       "    </tr>\n",
       "  </tbody>\n",
       "</table>\n",
       "<p>28882 rows × 12 columns</p>\n",
       "</div>"
      ],
      "text/plain": [
       "       User  Card  Year  Month  Day  Amount   MCC  dark_web  tem_chip  \\\n",
       "0         0     0  2002      9    1  134.09  5300         0         1   \n",
       "1         0     0  2002      9    1   38.48  5411         0         1   \n",
       "2         0     0  2002      9    2  120.34  5411         0         1   \n",
       "3         0     0  2002      9    2  128.95  5651         0         1   \n",
       "4         0     0  2002      9    3  104.71  5912         0         1   \n",
       "...     ...   ...   ...    ...  ...     ...   ...       ...       ...   \n",
       "28877     1     4  2020      2    1   15.77  5541         0         1   \n",
       "28878     1     4  2020      2    3   51.55  4814         0         1   \n",
       "28879     1     4  2020      2    6   17.74  5499         0         1   \n",
       "28880     1     4  2020      2   11   15.10  5814         0         1   \n",
       "28881     1     4  2020      2   22   16.65  4814         0         1   \n",
       "\n",
       "       limite_credito  ano_ultima_mudanca_pin  Fraude  \n",
       "0                99.0                    2012       0  \n",
       "1                99.0                    2012       0  \n",
       "2                99.0                    2012       0  \n",
       "3                99.0                    2012       0  \n",
       "4                99.0                    2012       0  \n",
       "...               ...                     ...     ...  \n",
       "28877         24295.0                    2008       0  \n",
       "28878         24295.0                    2008       0  \n",
       "28879         24295.0                    2008       0  \n",
       "28880         24295.0                    2008       0  \n",
       "28881         24295.0                    2008       0  \n",
       "\n",
       "[28882 rows x 12 columns]"
      ]
     },
     "execution_count": 47,
     "metadata": {},
     "output_type": "execute_result"
    }
   ],
   "source": [
    "arquivo_unificado.select_dtypes(exclude='object')"
   ]
  },
  {
   "cell_type": "code",
   "execution_count": 48,
   "metadata": {
    "id": "6QbuAKSnQZ3-"
   },
   "outputs": [],
   "source": [
    "arquivo_unificado_numerico = arquivo_unificado.select_dtypes(exclude='object')"
   ]
  },
  {
   "cell_type": "code",
   "execution_count": 49,
   "metadata": {
    "colab": {
     "base_uri": "https://localhost:8080/",
     "height": 206
    },
    "executionInfo": {
     "elapsed": 273,
     "status": "ok",
     "timestamp": 1665541015033,
     "user": {
      "displayName": "Leonardo Cruz",
      "userId": "16069636580170791409"
     },
     "user_tz": 180
    },
    "id": "zA806faOn22p",
    "outputId": "e1cfbfd3-e905-492e-ffc6-a22a834b4f56"
   },
   "outputs": [
    {
     "data": {
      "text/html": [
       "<div>\n",
       "<style scoped>\n",
       "    .dataframe tbody tr th:only-of-type {\n",
       "        vertical-align: middle;\n",
       "    }\n",
       "\n",
       "    .dataframe tbody tr th {\n",
       "        vertical-align: top;\n",
       "    }\n",
       "\n",
       "    .dataframe thead th {\n",
       "        text-align: right;\n",
       "    }\n",
       "</style>\n",
       "<table border=\"1\" class=\"dataframe\">\n",
       "  <thead>\n",
       "    <tr style=\"text-align: right;\">\n",
       "      <th></th>\n",
       "      <th>User</th>\n",
       "      <th>Card</th>\n",
       "      <th>Year</th>\n",
       "      <th>Month</th>\n",
       "      <th>Day</th>\n",
       "      <th>Amount</th>\n",
       "      <th>MCC</th>\n",
       "      <th>dark_web</th>\n",
       "      <th>tem_chip</th>\n",
       "      <th>limite_credito</th>\n",
       "      <th>ano_ultima_mudanca_pin</th>\n",
       "      <th>Fraude</th>\n",
       "    </tr>\n",
       "  </thead>\n",
       "  <tbody>\n",
       "    <tr>\n",
       "      <th>0</th>\n",
       "      <td>0</td>\n",
       "      <td>0</td>\n",
       "      <td>2002</td>\n",
       "      <td>9</td>\n",
       "      <td>1</td>\n",
       "      <td>134.09</td>\n",
       "      <td>5300</td>\n",
       "      <td>0</td>\n",
       "      <td>1</td>\n",
       "      <td>99.0</td>\n",
       "      <td>2012</td>\n",
       "      <td>0</td>\n",
       "    </tr>\n",
       "    <tr>\n",
       "      <th>1</th>\n",
       "      <td>0</td>\n",
       "      <td>0</td>\n",
       "      <td>2002</td>\n",
       "      <td>9</td>\n",
       "      <td>1</td>\n",
       "      <td>38.48</td>\n",
       "      <td>5411</td>\n",
       "      <td>0</td>\n",
       "      <td>1</td>\n",
       "      <td>99.0</td>\n",
       "      <td>2012</td>\n",
       "      <td>0</td>\n",
       "    </tr>\n",
       "    <tr>\n",
       "      <th>2</th>\n",
       "      <td>0</td>\n",
       "      <td>0</td>\n",
       "      <td>2002</td>\n",
       "      <td>9</td>\n",
       "      <td>2</td>\n",
       "      <td>120.34</td>\n",
       "      <td>5411</td>\n",
       "      <td>0</td>\n",
       "      <td>1</td>\n",
       "      <td>99.0</td>\n",
       "      <td>2012</td>\n",
       "      <td>0</td>\n",
       "    </tr>\n",
       "    <tr>\n",
       "      <th>3</th>\n",
       "      <td>0</td>\n",
       "      <td>0</td>\n",
       "      <td>2002</td>\n",
       "      <td>9</td>\n",
       "      <td>2</td>\n",
       "      <td>128.95</td>\n",
       "      <td>5651</td>\n",
       "      <td>0</td>\n",
       "      <td>1</td>\n",
       "      <td>99.0</td>\n",
       "      <td>2012</td>\n",
       "      <td>0</td>\n",
       "    </tr>\n",
       "    <tr>\n",
       "      <th>4</th>\n",
       "      <td>0</td>\n",
       "      <td>0</td>\n",
       "      <td>2002</td>\n",
       "      <td>9</td>\n",
       "      <td>3</td>\n",
       "      <td>104.71</td>\n",
       "      <td>5912</td>\n",
       "      <td>0</td>\n",
       "      <td>1</td>\n",
       "      <td>99.0</td>\n",
       "      <td>2012</td>\n",
       "      <td>0</td>\n",
       "    </tr>\n",
       "  </tbody>\n",
       "</table>\n",
       "</div>"
      ],
      "text/plain": [
       "   User  Card  Year  Month  Day  Amount   MCC  dark_web  tem_chip  \\\n",
       "0     0     0  2002      9    1  134.09  5300         0         1   \n",
       "1     0     0  2002      9    1   38.48  5411         0         1   \n",
       "2     0     0  2002      9    2  120.34  5411         0         1   \n",
       "3     0     0  2002      9    2  128.95  5651         0         1   \n",
       "4     0     0  2002      9    3  104.71  5912         0         1   \n",
       "\n",
       "   limite_credito  ano_ultima_mudanca_pin  Fraude  \n",
       "0            99.0                    2012       0  \n",
       "1            99.0                    2012       0  \n",
       "2            99.0                    2012       0  \n",
       "3            99.0                    2012       0  \n",
       "4            99.0                    2012       0  "
      ]
     },
     "execution_count": 49,
     "metadata": {},
     "output_type": "execute_result"
    }
   ],
   "source": [
    "arquivo_unificado_numerico.head()"
   ]
  },
  {
   "cell_type": "markdown",
   "metadata": {
    "id": "BP09pRhSRGP0"
   },
   "source": [
    "**Arquivo Final**"
   ]
  },
  {
   "cell_type": "markdown",
   "metadata": {
    "id": "XxJtdnvZvHGj"
   },
   "source": [
    "O arquivo final será formado da concatenação do dataframe unificado após o processo de encode mais o dataframe de dados numéricos."
   ]
  },
  {
   "cell_type": "code",
   "execution_count": 50,
   "metadata": {
    "id": "S3p8am0nRJ2B"
   },
   "outputs": [],
   "source": [
    "# Criação do dataframe unificado \"X\"\n",
    "X = arquivo_unificado_encodado\n",
    "X = pd.concat([X,arquivo_unificado_numerico],axis=1)\n",
    "# Criação do dataframe alvo \"y\"\n",
    "y = arquivo_fraude.copy()"
   ]
  },
  {
   "cell_type": "code",
   "execution_count": 51,
   "metadata": {
    "colab": {
     "base_uri": "https://localhost:8080/",
     "height": 305
    },
    "executionInfo": {
     "elapsed": 385,
     "status": "ok",
     "timestamp": 1665541021342,
     "user": {
      "displayName": "Leonardo Cruz",
      "userId": "16069636580170791409"
     },
     "user_tz": 180
    },
    "id": "cSmC5mKrV74o",
    "outputId": "3525ab81-2b88-4ea4-9ab1-fa20b544f8d3"
   },
   "outputs": [
    {
     "data": {
      "text/html": [
       "<div>\n",
       "<style scoped>\n",
       "    .dataframe tbody tr th:only-of-type {\n",
       "        vertical-align: middle;\n",
       "    }\n",
       "\n",
       "    .dataframe tbody tr th {\n",
       "        vertical-align: top;\n",
       "    }\n",
       "\n",
       "    .dataframe thead th {\n",
       "        text-align: right;\n",
       "    }\n",
       "</style>\n",
       "<table border=\"1\" class=\"dataframe\">\n",
       "  <thead>\n",
       "    <tr style=\"text-align: right;\">\n",
       "      <th></th>\n",
       "      <th>Use Chip_Chip Transaction</th>\n",
       "      <th>Use Chip_Online Transaction</th>\n",
       "      <th>Use Chip_Swipe Transaction</th>\n",
       "      <th>bandeira_Mastercard</th>\n",
       "      <th>bandeira_Visa</th>\n",
       "      <th>tipo_Credit</th>\n",
       "      <th>tipo_Debit</th>\n",
       "      <th>tipo_Debit (Prepaid)</th>\n",
       "      <th>User</th>\n",
       "      <th>Card</th>\n",
       "      <th>Year</th>\n",
       "      <th>Month</th>\n",
       "      <th>Day</th>\n",
       "      <th>Amount</th>\n",
       "      <th>MCC</th>\n",
       "      <th>dark_web</th>\n",
       "      <th>tem_chip</th>\n",
       "      <th>limite_credito</th>\n",
       "      <th>ano_ultima_mudanca_pin</th>\n",
       "      <th>Fraude</th>\n",
       "    </tr>\n",
       "  </thead>\n",
       "  <tbody>\n",
       "    <tr>\n",
       "      <th>0</th>\n",
       "      <td>0</td>\n",
       "      <td>0</td>\n",
       "      <td>1</td>\n",
       "      <td>1</td>\n",
       "      <td>0</td>\n",
       "      <td>0</td>\n",
       "      <td>0</td>\n",
       "      <td>1</td>\n",
       "      <td>0</td>\n",
       "      <td>0</td>\n",
       "      <td>2002</td>\n",
       "      <td>9</td>\n",
       "      <td>1</td>\n",
       "      <td>134.09</td>\n",
       "      <td>5300</td>\n",
       "      <td>0</td>\n",
       "      <td>1</td>\n",
       "      <td>99.0</td>\n",
       "      <td>2012</td>\n",
       "      <td>0</td>\n",
       "    </tr>\n",
       "    <tr>\n",
       "      <th>1</th>\n",
       "      <td>0</td>\n",
       "      <td>0</td>\n",
       "      <td>1</td>\n",
       "      <td>1</td>\n",
       "      <td>0</td>\n",
       "      <td>0</td>\n",
       "      <td>0</td>\n",
       "      <td>1</td>\n",
       "      <td>0</td>\n",
       "      <td>0</td>\n",
       "      <td>2002</td>\n",
       "      <td>9</td>\n",
       "      <td>1</td>\n",
       "      <td>38.48</td>\n",
       "      <td>5411</td>\n",
       "      <td>0</td>\n",
       "      <td>1</td>\n",
       "      <td>99.0</td>\n",
       "      <td>2012</td>\n",
       "      <td>0</td>\n",
       "    </tr>\n",
       "    <tr>\n",
       "      <th>2</th>\n",
       "      <td>0</td>\n",
       "      <td>0</td>\n",
       "      <td>1</td>\n",
       "      <td>1</td>\n",
       "      <td>0</td>\n",
       "      <td>0</td>\n",
       "      <td>0</td>\n",
       "      <td>1</td>\n",
       "      <td>0</td>\n",
       "      <td>0</td>\n",
       "      <td>2002</td>\n",
       "      <td>9</td>\n",
       "      <td>2</td>\n",
       "      <td>120.34</td>\n",
       "      <td>5411</td>\n",
       "      <td>0</td>\n",
       "      <td>1</td>\n",
       "      <td>99.0</td>\n",
       "      <td>2012</td>\n",
       "      <td>0</td>\n",
       "    </tr>\n",
       "    <tr>\n",
       "      <th>3</th>\n",
       "      <td>0</td>\n",
       "      <td>0</td>\n",
       "      <td>1</td>\n",
       "      <td>1</td>\n",
       "      <td>0</td>\n",
       "      <td>0</td>\n",
       "      <td>0</td>\n",
       "      <td>1</td>\n",
       "      <td>0</td>\n",
       "      <td>0</td>\n",
       "      <td>2002</td>\n",
       "      <td>9</td>\n",
       "      <td>2</td>\n",
       "      <td>128.95</td>\n",
       "      <td>5651</td>\n",
       "      <td>0</td>\n",
       "      <td>1</td>\n",
       "      <td>99.0</td>\n",
       "      <td>2012</td>\n",
       "      <td>0</td>\n",
       "    </tr>\n",
       "    <tr>\n",
       "      <th>4</th>\n",
       "      <td>0</td>\n",
       "      <td>0</td>\n",
       "      <td>1</td>\n",
       "      <td>1</td>\n",
       "      <td>0</td>\n",
       "      <td>0</td>\n",
       "      <td>0</td>\n",
       "      <td>1</td>\n",
       "      <td>0</td>\n",
       "      <td>0</td>\n",
       "      <td>2002</td>\n",
       "      <td>9</td>\n",
       "      <td>3</td>\n",
       "      <td>104.71</td>\n",
       "      <td>5912</td>\n",
       "      <td>0</td>\n",
       "      <td>1</td>\n",
       "      <td>99.0</td>\n",
       "      <td>2012</td>\n",
       "      <td>0</td>\n",
       "    </tr>\n",
       "  </tbody>\n",
       "</table>\n",
       "</div>"
      ],
      "text/plain": [
       "   Use Chip_Chip Transaction  Use Chip_Online Transaction  \\\n",
       "0                          0                            0   \n",
       "1                          0                            0   \n",
       "2                          0                            0   \n",
       "3                          0                            0   \n",
       "4                          0                            0   \n",
       "\n",
       "   Use Chip_Swipe Transaction  bandeira_Mastercard  bandeira_Visa  \\\n",
       "0                           1                    1              0   \n",
       "1                           1                    1              0   \n",
       "2                           1                    1              0   \n",
       "3                           1                    1              0   \n",
       "4                           1                    1              0   \n",
       "\n",
       "   tipo_Credit  tipo_Debit  tipo_Debit (Prepaid)  User  Card  Year  Month  \\\n",
       "0            0           0                     1     0     0  2002      9   \n",
       "1            0           0                     1     0     0  2002      9   \n",
       "2            0           0                     1     0     0  2002      9   \n",
       "3            0           0                     1     0     0  2002      9   \n",
       "4            0           0                     1     0     0  2002      9   \n",
       "\n",
       "   Day  Amount   MCC  dark_web  tem_chip  limite_credito  \\\n",
       "0    1  134.09  5300         0         1            99.0   \n",
       "1    1   38.48  5411         0         1            99.0   \n",
       "2    2  120.34  5411         0         1            99.0   \n",
       "3    2  128.95  5651         0         1            99.0   \n",
       "4    3  104.71  5912         0         1            99.0   \n",
       "\n",
       "   ano_ultima_mudanca_pin  Fraude  \n",
       "0                    2012       0  \n",
       "1                    2012       0  \n",
       "2                    2012       0  \n",
       "3                    2012       0  \n",
       "4                    2012       0  "
      ]
     },
     "execution_count": 51,
     "metadata": {},
     "output_type": "execute_result"
    }
   ],
   "source": [
    "X.head()"
   ]
  },
  {
   "cell_type": "code",
   "execution_count": 52,
   "metadata": {
    "colab": {
     "base_uri": "https://localhost:8080/"
    },
    "executionInfo": {
     "elapsed": 355,
     "status": "ok",
     "timestamp": 1665541028599,
     "user": {
      "displayName": "Leonardo Cruz",
      "userId": "16069636580170791409"
     },
     "user_tz": 180
    },
    "id": "VURHw7kDS_kR",
    "outputId": "eeb39793-872f-467e-a7e8-a3d9e6ba6c2c"
   },
   "outputs": [
    {
     "data": {
      "text/plain": [
       "(28882, 20)"
      ]
     },
     "execution_count": 52,
     "metadata": {},
     "output_type": "execute_result"
    }
   ],
   "source": [
    "# Visualização do formato do dataframe \"X\"\n",
    "X.shape"
   ]
  },
  {
   "cell_type": "code",
   "execution_count": 53,
   "metadata": {
    "colab": {
     "base_uri": "https://localhost:8080/"
    },
    "executionInfo": {
     "elapsed": 286,
     "status": "ok",
     "timestamp": 1665541030757,
     "user": {
      "displayName": "Leonardo Cruz",
      "userId": "16069636580170791409"
     },
     "user_tz": 180
    },
    "id": "ZidfMfhBS-iC",
    "outputId": "6045695d-4f06-4d59-c853-f62362cbf26e"
   },
   "outputs": [
    {
     "data": {
      "text/plain": [
       "(28882,)"
      ]
     },
     "execution_count": 53,
     "metadata": {},
     "output_type": "execute_result"
    }
   ],
   "source": [
    "# Visualização do formato do dataframe \"y\"\n",
    "y.shape"
   ]
  },
  {
   "cell_type": "markdown",
   "metadata": {
    "id": "Yp0qFAt0FNiq"
   },
   "source": [
    "# **Verificação de Balanceamento da coluna Fraude**"
   ]
  },
  {
   "cell_type": "code",
   "execution_count": 54,
   "metadata": {
    "colab": {
     "base_uri": "https://localhost:8080/"
    },
    "executionInfo": {
     "elapsed": 264,
     "status": "ok",
     "timestamp": 1665541035510,
     "user": {
      "displayName": "Leonardo Cruz",
      "userId": "16069636580170791409"
     },
     "user_tz": 180
    },
    "id": "4C3thdIwzG7Q",
    "outputId": "958a9dca-f75b-4702-93d7-725d00e0fbab"
   },
   "outputs": [
    {
     "name": "stdout",
     "output_type": "stream",
     "text": [
      "0    28822\n",
      "1       60\n",
      "dtype: int64\n",
      "\n",
      "Fraudes representam 0.2077% do dataset.\n",
      "\n"
     ]
    }
   ],
   "source": [
    "print(y.value_counts())\n",
    "print(\"\\nFraudes representam {:.4f}% do dataset.\\n\".format((y[y==1].shape[0]/y.shape[0])*100))"
   ]
  },
  {
   "cell_type": "code",
   "execution_count": 55,
   "metadata": {
    "colab": {
     "base_uri": "https://localhost:8080/",
     "height": 298
    },
    "executionInfo": {
     "elapsed": 290,
     "status": "ok",
     "timestamp": 1665541037988,
     "user": {
      "displayName": "Leonardo Cruz",
      "userId": "16069636580170791409"
     },
     "user_tz": 180
    },
    "id": "j4al-dCV1Tbm",
    "outputId": "4bcbe48e-c3e8-4592-b85c-b5f0b01603a6"
   },
   "outputs": [
    {
     "data": {
      "text/plain": [
       "[]"
      ]
     },
     "execution_count": 55,
     "metadata": {},
     "output_type": "execute_result"
    },
    {
     "data": {
      "image/png": "[encoded data removed]",
      "text/plain": [
       "<Figure size 432x288 with 1 Axes>"
      ]
     },
     "metadata": {
      "needs_background": "light"
     },
     "output_type": "display_data"
    }
   ],
   "source": [
    "# Platagem do gráfico de balanceamento\n",
    "fig, ax = plt.subplots()\n",
    "sns.countplot(y, data = y[y==1], ax = ax)\n",
    "ax.set_title('Gráfico de balanceamento da classe Fraude')\n",
    "plt.plot()\n"
   ]
  },
  {
   "cell_type": "code",
   "execution_count": 56,
   "metadata": {
    "colab": {
     "base_uri": "https://localhost:8080/",
     "height": 729
    },
    "executionInfo": {
     "elapsed": 581,
     "status": "ok",
     "timestamp": 1665541041408,
     "user": {
      "displayName": "Leonardo Cruz",
      "userId": "16069636580170791409"
     },
     "user_tz": 180
    },
    "id": "BiTokUyF107g",
    "outputId": "02dbb5bc-047a-4e0f-8e8c-06b31dcbe531"
   },
   "outputs": [
    {
     "data": {
      "image/png": "[encoded data removed]",
      "text/plain": [
       "<Figure size 432x720 with 1 Axes>"
      ]
     },
     "metadata": {
      "needs_background": "light"
     },
     "output_type": "display_data"
    }
   ],
   "source": [
    "# Plotando o diagram de caixa para verificar se há diferenças claras entre os valores das \n",
    "# transações fraudulentas das transações normais.\n",
    "\n",
    "fig, ax = plt.subplots(figsize=(6,10), sharex=True)\n",
    "ax.set_title('Diagrama de caixa (Amount x Fraude)')\n",
    "\n",
    "sns.boxplot(arquivo_unificado_antigo.Fraud, arquivo_unificado_antigo.Amount, showmeans =True, ax=ax)\n",
    "plt.ylim(-10,400)\n",
    "plt.xticks([0,1],['Normal','Fraude'])\n",
    "\n",
    "plt.tight_layout()"
   ]
  },
  {
   "cell_type": "markdown",
   "metadata": {
    "id": "a2IlHh_YVk2f"
   },
   "source": [
    "# **Reescalando dados**\n",
    "Reescalar as features, que estão em ordem de grandeza diferenes. Padronização das features para torná-las manejáveis aos modelos."
   ]
  },
  {
   "cell_type": "code",
   "execution_count": 57,
   "metadata": {
    "id": "cFemKTZaVkdx"
   },
   "outputs": [],
   "source": [
    "# Criando dataframe de \"X_escalado\"\n",
    "X_escalado = X.copy()\n",
    "\n",
    "# Escalando cada feature que possuem padrões de grandeza diferentes (Nesse caso maiores).\n",
    "scaler = StandardScaler()\n",
    "X_escalado['esc_Year'] = scaler.fit_transform(X_escalado['Year'].values.reshape(-1,1))\n",
    "X_escalado['esc_Amount'] = scaler.fit_transform(X_escalado['Amount'].values.reshape(-1,1))\n",
    "X_escalado['esc_MCC'] = scaler.fit_transform(X_escalado['MCC'].values.reshape(-1,1))\n",
    "X_escalado['esc_limite_credito'] = scaler.fit_transform(X_escalado['limite_credito'].values.reshape(-1,1))\n",
    "X_escalado['esc_ano_ultima_mudanca_pin'] = scaler.fit_transform(X_escalado['ano_ultima_mudanca_pin'].values.reshape(-1,1))\n",
    "\n",
    "# Excluindo features antigas, dessa forma apenas features escaladas permanecem no dataframe\n",
    "X_escalado.drop(['Year','Amount','MCC','limite_credito','ano_ultima_mudanca_pin'], axis=1, inplace=True)\n"
   ]
  },
  {
   "cell_type": "code",
   "execution_count": 58,
   "metadata": {
    "colab": {
     "base_uri": "https://localhost:8080/",
     "height": 305
    },
    "executionInfo": {
     "elapsed": 280,
     "status": "ok",
     "timestamp": 1665544827896,
     "user": {
      "displayName": "Leonardo Cruz",
      "userId": "16069636580170791409"
     },
     "user_tz": 180
    },
    "id": "Mtolcmw3YkY3",
    "outputId": "e9fb58dd-fd9e-409c-a6b1-dac32de15373"
   },
   "outputs": [
    {
     "data": {
      "text/html": [
       "<div>\n",
       "<style scoped>\n",
       "    .dataframe tbody tr th:only-of-type {\n",
       "        vertical-align: middle;\n",
       "    }\n",
       "\n",
       "    .dataframe tbody tr th {\n",
       "        vertical-align: top;\n",
       "    }\n",
       "\n",
       "    .dataframe thead th {\n",
       "        text-align: right;\n",
       "    }\n",
       "</style>\n",
       "<table border=\"1\" class=\"dataframe\">\n",
       "  <thead>\n",
       "    <tr style=\"text-align: right;\">\n",
       "      <th></th>\n",
       "      <th>Use Chip_Chip Transaction</th>\n",
       "      <th>Use Chip_Online Transaction</th>\n",
       "      <th>Use Chip_Swipe Transaction</th>\n",
       "      <th>bandeira_Mastercard</th>\n",
       "      <th>bandeira_Visa</th>\n",
       "      <th>tipo_Credit</th>\n",
       "      <th>tipo_Debit</th>\n",
       "      <th>tipo_Debit (Prepaid)</th>\n",
       "      <th>User</th>\n",
       "      <th>Card</th>\n",
       "      <th>Month</th>\n",
       "      <th>Day</th>\n",
       "      <th>dark_web</th>\n",
       "      <th>tem_chip</th>\n",
       "      <th>Fraude</th>\n",
       "      <th>esc_Year</th>\n",
       "      <th>esc_Amount</th>\n",
       "      <th>esc_MCC</th>\n",
       "      <th>esc_limite_credito</th>\n",
       "      <th>esc_ano_ultima_mudanca_pin</th>\n",
       "    </tr>\n",
       "  </thead>\n",
       "  <tbody>\n",
       "    <tr>\n",
       "      <th>0</th>\n",
       "      <td>0</td>\n",
       "      <td>0</td>\n",
       "      <td>1</td>\n",
       "      <td>1</td>\n",
       "      <td>0</td>\n",
       "      <td>0</td>\n",
       "      <td>0</td>\n",
       "      <td>1</td>\n",
       "      <td>0</td>\n",
       "      <td>0</td>\n",
       "      <td>9</td>\n",
       "      <td>1</td>\n",
       "      <td>0</td>\n",
       "      <td>1</td>\n",
       "      <td>0</td>\n",
       "      <td>-1.85415</td>\n",
       "      <td>0.451201</td>\n",
       "      <td>-0.404647</td>\n",
       "      <td>-1.432296</td>\n",
       "      <td>0.351837</td>\n",
       "    </tr>\n",
       "    <tr>\n",
       "      <th>1</th>\n",
       "      <td>0</td>\n",
       "      <td>0</td>\n",
       "      <td>1</td>\n",
       "      <td>1</td>\n",
       "      <td>0</td>\n",
       "      <td>0</td>\n",
       "      <td>0</td>\n",
       "      <td>1</td>\n",
       "      <td>0</td>\n",
       "      <td>0</td>\n",
       "      <td>9</td>\n",
       "      <td>1</td>\n",
       "      <td>0</td>\n",
       "      <td>1</td>\n",
       "      <td>0</td>\n",
       "      <td>-1.85415</td>\n",
       "      <td>-0.365118</td>\n",
       "      <td>-0.275734</td>\n",
       "      <td>-1.432296</td>\n",
       "      <td>0.351837</td>\n",
       "    </tr>\n",
       "    <tr>\n",
       "      <th>2</th>\n",
       "      <td>0</td>\n",
       "      <td>0</td>\n",
       "      <td>1</td>\n",
       "      <td>1</td>\n",
       "      <td>0</td>\n",
       "      <td>0</td>\n",
       "      <td>0</td>\n",
       "      <td>1</td>\n",
       "      <td>0</td>\n",
       "      <td>0</td>\n",
       "      <td>9</td>\n",
       "      <td>2</td>\n",
       "      <td>0</td>\n",
       "      <td>1</td>\n",
       "      <td>0</td>\n",
       "      <td>-1.85415</td>\n",
       "      <td>0.333804</td>\n",
       "      <td>-0.275734</td>\n",
       "      <td>-1.432296</td>\n",
       "      <td>0.351837</td>\n",
       "    </tr>\n",
       "    <tr>\n",
       "      <th>3</th>\n",
       "      <td>0</td>\n",
       "      <td>0</td>\n",
       "      <td>1</td>\n",
       "      <td>1</td>\n",
       "      <td>0</td>\n",
       "      <td>0</td>\n",
       "      <td>0</td>\n",
       "      <td>1</td>\n",
       "      <td>0</td>\n",
       "      <td>0</td>\n",
       "      <td>9</td>\n",
       "      <td>2</td>\n",
       "      <td>0</td>\n",
       "      <td>1</td>\n",
       "      <td>0</td>\n",
       "      <td>-1.85415</td>\n",
       "      <td>0.407316</td>\n",
       "      <td>0.002997</td>\n",
       "      <td>-1.432296</td>\n",
       "      <td>0.351837</td>\n",
       "    </tr>\n",
       "    <tr>\n",
       "      <th>4</th>\n",
       "      <td>0</td>\n",
       "      <td>0</td>\n",
       "      <td>1</td>\n",
       "      <td>1</td>\n",
       "      <td>0</td>\n",
       "      <td>0</td>\n",
       "      <td>0</td>\n",
       "      <td>1</td>\n",
       "      <td>0</td>\n",
       "      <td>0</td>\n",
       "      <td>9</td>\n",
       "      <td>3</td>\n",
       "      <td>0</td>\n",
       "      <td>1</td>\n",
       "      <td>0</td>\n",
       "      <td>-1.85415</td>\n",
       "      <td>0.200355</td>\n",
       "      <td>0.306117</td>\n",
       "      <td>-1.432296</td>\n",
       "      <td>0.351837</td>\n",
       "    </tr>\n",
       "  </tbody>\n",
       "</table>\n",
       "</div>"
      ],
      "text/plain": [
       "   Use Chip_Chip Transaction  Use Chip_Online Transaction  \\\n",
       "0                          0                            0   \n",
       "1                          0                            0   \n",
       "2                          0                            0   \n",
       "3                          0                            0   \n",
       "4                          0                            0   \n",
       "\n",
       "   Use Chip_Swipe Transaction  bandeira_Mastercard  bandeira_Visa  \\\n",
       "0                           1                    1              0   \n",
       "1                           1                    1              0   \n",
       "2                           1                    1              0   \n",
       "3                           1                    1              0   \n",
       "4                           1                    1              0   \n",
       "\n",
       "   tipo_Credit  tipo_Debit  tipo_Debit (Prepaid)  User  Card  Month  Day  \\\n",
       "0            0           0                     1     0     0      9    1   \n",
       "1            0           0                     1     0     0      9    1   \n",
       "2            0           0                     1     0     0      9    2   \n",
       "3            0           0                     1     0     0      9    2   \n",
       "4            0           0                     1     0     0      9    3   \n",
       "\n",
       "   dark_web  tem_chip  Fraude  esc_Year  esc_Amount   esc_MCC  \\\n",
       "0         0         1       0  -1.85415    0.451201 -0.404647   \n",
       "1         0         1       0  -1.85415   -0.365118 -0.275734   \n",
       "2         0         1       0  -1.85415    0.333804 -0.275734   \n",
       "3         0         1       0  -1.85415    0.407316  0.002997   \n",
       "4         0         1       0  -1.85415    0.200355  0.306117   \n",
       "\n",
       "   esc_limite_credito  esc_ano_ultima_mudanca_pin  \n",
       "0           -1.432296                    0.351837  \n",
       "1           -1.432296                    0.351837  \n",
       "2           -1.432296                    0.351837  \n",
       "3           -1.432296                    0.351837  \n",
       "4           -1.432296                    0.351837  "
      ]
     },
     "execution_count": 58,
     "metadata": {},
     "output_type": "execute_result"
    }
   ],
   "source": [
    "X_escalado.head()"
   ]
  },
  {
   "cell_type": "markdown",
   "metadata": {
    "id": "mFJQG4eTY6vY"
   },
   "source": [
    "# **Verificação da Matriz de Correlação**\n",
    "Indica o coeficiente de conexão entre as diversas features. "
   ]
  },
  {
   "cell_type": "code",
   "execution_count": 59,
   "metadata": {
    "colab": {
     "base_uri": "https://localhost:8080/",
     "height": 420
    },
    "executionInfo": {
     "elapsed": 1178,
     "status": "ok",
     "timestamp": 1665544831746,
     "user": {
      "displayName": "Leonardo Cruz",
      "userId": "16069636580170791409"
     },
     "user_tz": 180
    },
    "id": "xq4f4BLfZBHB",
    "outputId": "f66afd80-3426-434c-acba-7bcdc0c3e268"
   },
   "outputs": [
    {
     "data": {
      "image/png": "[encoded data removed]",
      "text/plain": [
       "<Figure size 432x288 with 2 Axes>"
      ]
     },
     "metadata": {
      "needs_background": "light"
     },
     "output_type": "display_data"
    }
   ],
   "source": [
    "correlacao_matriz = X_escalado.corr().abs()\n",
    "sns.heatmap(correlacao_matriz, cmap=\"Blues\")\n",
    "\n",
    "# Plotando gráfico de correlação\n",
    "plt.title('Gráfico de correlação entre as classes')\n",
    "plt.show()"
   ]
  },
  {
   "cell_type": "code",
   "execution_count": 60,
   "metadata": {
    "id": "2XTIMrQSdft0"
   },
   "outputs": [],
   "source": [
    "# Determina quais classes serão excluídas com base no fator de correlação.\n",
    "acima = correlacao_matriz.where(np.triu(np.ones(correlacao_matriz.shape),k=1).astype(np.bool_))\n",
    "# Parâmetro de corte '0.70' escolhido após testes. Foram testados valores ( <= 0.5 ;  0.6 ; 0.7 ; 0.75 ; >= 0,8)\n",
    "#         O ponto de estabilidade nos resultados foi encontrado em 0.7\n",
    "para_excluir = [column for column in acima.columns if any(acima[column] >= 0.70)]"
   ]
  },
  {
   "cell_type": "code",
   "execution_count": 61,
   "metadata": {
    "colab": {
     "base_uri": "https://localhost:8080/"
    },
    "executionInfo": {
     "elapsed": 283,
     "status": "ok",
     "timestamp": 1665544837979,
     "user": {
      "displayName": "Leonardo Cruz",
      "userId": "16069636580170791409"
     },
     "user_tz": 180
    },
    "id": "bQhmFLw5d-O7",
    "outputId": "1088edb9-9f43-45a3-b5b9-71079258464a"
   },
   "outputs": [
    {
     "data": {
      "text/plain": [
       "['Use Chip_Swipe Transaction',\n",
       " 'bandeira_Visa',\n",
       " 'tipo_Debit',\n",
       " 'Card',\n",
       " 'tem_chip',\n",
       " 'esc_ano_ultima_mudanca_pin']"
      ]
     },
     "execution_count": 61,
     "metadata": {},
     "output_type": "execute_result"
    }
   ],
   "source": [
    "para_excluir"
   ]
  },
  {
   "cell_type": "code",
   "execution_count": 62,
   "metadata": {
    "colab": {
     "base_uri": "https://localhost:8080/"
    },
    "executionInfo": {
     "elapsed": 323,
     "status": "ok",
     "timestamp": 1665544843075,
     "user": {
      "displayName": "Leonardo Cruz",
      "userId": "16069636580170791409"
     },
     "user_tz": 180
    },
    "id": "D3f20PlzeVq8",
    "outputId": "aadbb484-4cf0-4e2b-90b5-62a61b156143"
   },
   "outputs": [
    {
     "data": {
      "text/plain": [
       "['Use Chip_Chip Transaction',\n",
       " 'Use Chip_Online Transaction',\n",
       " 'bandeira_Mastercard',\n",
       " 'tipo_Credit',\n",
       " 'tipo_Debit (Prepaid)',\n",
       " 'User',\n",
       " 'Month',\n",
       " 'Day',\n",
       " 'dark_web',\n",
       " 'Fraude',\n",
       " 'esc_Year',\n",
       " 'esc_Amount',\n",
       " 'esc_MCC',\n",
       " 'esc_limite_credito']"
      ]
     },
     "execution_count": 62,
     "metadata": {},
     "output_type": "execute_result"
    }
   ],
   "source": [
    "X_escalado.drop(para_excluir, axis=1).columns.tolist()"
   ]
  },
  {
   "cell_type": "code",
   "execution_count": 63,
   "metadata": {
    "id": "5I-k8lWCfcM1"
   },
   "outputs": [],
   "source": [
    "# Exclui do dataframe \"X_final\" as classes indicadas pela matriz de correlação\n",
    "X_final = X_escalado.drop(['Use Chip_Swipe Transaction','bandeira_Visa','tipo_Debit',\n",
    "                           'Card','tem_chip','esc_ano_ultima_mudanca_pin'],axis=1).copy()"
   ]
  },
  {
   "cell_type": "markdown",
   "metadata": {
    "id": "0v8JgKXWUzbJ"
   },
   "source": [
    "# **Conclusões sobre a análise dos dados**\n",
    "\n",
    "*   O dataset final está desbalanceado, e deverá passar pelo processo de balanceamento após divisão para treino e teste\n",
    "*   Não existem valores ausentes no Dataset final\n",
    "*   Algumas colunas foram excluídas de acordo com a indicação na matriz de correlação, desta forma aumentando o desempenho do modelo através da diminuição da complexidade computacional.\n",
    "\n"
   ]
  },
  {
   "cell_type": "markdown",
   "metadata": {
    "id": "dd8SUwULaced"
   },
   "source": [
    "**Gravando arquivos criado no Google Drive**"
   ]
  },
  {
   "cell_type": "code",
   "execution_count": 64,
   "metadata": {
    "id": "rHnDFY5YacK5"
   },
   "outputs": [],
   "source": [
    "X.to_csv('X.csv')\n",
    "y.to_csv('y.csv')\n",
    "\n",
    "X_escalado.to_csv('X_escalado.csv')\n",
    "X_final.to_csv('X_final.csv')\n"
   ]
  },
  {
   "cell_type": "markdown",
   "metadata": {
    "id": "UBwwNXWPcRzA"
   },
   "source": [
    "# **Preparando dados para uso nos modelos**\n"
   ]
  },
  {
   "cell_type": "markdown",
   "metadata": {
    "id": "CN5CDditcdEQ"
   },
   "source": [
    "Divisão dos dataset's finais entre Treino e Teste"
   ]
  },
  {
   "cell_type": "code",
   "execution_count": 65,
   "metadata": {
    "id": "GNlJ9UzVc2dj"
   },
   "outputs": [],
   "source": [
    "# Excluindo a classe \"Fraude\" do dataframe \"X_entrada\"\n",
    "X_entrada = X_final.drop('Fraude',axis=1)\n",
    "\n",
    "# Split dos dados em dataframe's de Treino e Teste\n",
    "X_treino, X_teste, y_treino, y_teste = train_test_split(X_entrada, y)"
   ]
  },
  {
   "cell_type": "code",
   "execution_count": 66,
   "metadata": {
    "id": "OPfzDaL0LP5x"
   },
   "outputs": [
    {
     "data": {
      "text/html": [
       "<div>\n",
       "<style scoped>\n",
       "    .dataframe tbody tr th:only-of-type {\n",
       "        vertical-align: middle;\n",
       "    }\n",
       "\n",
       "    .dataframe tbody tr th {\n",
       "        vertical-align: top;\n",
       "    }\n",
       "\n",
       "    .dataframe thead th {\n",
       "        text-align: right;\n",
       "    }\n",
       "</style>\n",
       "<table border=\"1\" class=\"dataframe\">\n",
       "  <thead>\n",
       "    <tr style=\"text-align: right;\">\n",
       "      <th></th>\n",
       "      <th>Use Chip_Chip Transaction</th>\n",
       "      <th>Use Chip_Online Transaction</th>\n",
       "      <th>bandeira_Mastercard</th>\n",
       "      <th>tipo_Credit</th>\n",
       "      <th>tipo_Debit (Prepaid)</th>\n",
       "      <th>User</th>\n",
       "      <th>Month</th>\n",
       "      <th>Day</th>\n",
       "      <th>dark_web</th>\n",
       "      <th>esc_Year</th>\n",
       "      <th>esc_Amount</th>\n",
       "      <th>esc_MCC</th>\n",
       "      <th>esc_limite_credito</th>\n",
       "    </tr>\n",
       "  </thead>\n",
       "  <tbody>\n",
       "    <tr>\n",
       "      <th>26061</th>\n",
       "      <td>1</td>\n",
       "      <td>0</td>\n",
       "      <td>0</td>\n",
       "      <td>0</td>\n",
       "      <td>0</td>\n",
       "      <td>1</td>\n",
       "      <td>6</td>\n",
       "      <td>20</td>\n",
       "      <td>0</td>\n",
       "      <td>1.166606</td>\n",
       "      <td>0.156042</td>\n",
       "      <td>-0.391872</td>\n",
       "      <td>0.357993</td>\n",
       "    </tr>\n",
       "    <tr>\n",
       "      <th>21595</th>\n",
       "      <td>1</td>\n",
       "      <td>0</td>\n",
       "      <td>0</td>\n",
       "      <td>0</td>\n",
       "      <td>0</td>\n",
       "      <td>1</td>\n",
       "      <td>2</td>\n",
       "      <td>16</td>\n",
       "      <td>0</td>\n",
       "      <td>1.569373</td>\n",
       "      <td>0.430539</td>\n",
       "      <td>-0.869199</td>\n",
       "      <td>1.994602</td>\n",
       "    </tr>\n",
       "    <tr>\n",
       "      <th>23359</th>\n",
       "      <td>0</td>\n",
       "      <td>0</td>\n",
       "      <td>0</td>\n",
       "      <td>0</td>\n",
       "      <td>0</td>\n",
       "      <td>1</td>\n",
       "      <td>1</td>\n",
       "      <td>13</td>\n",
       "      <td>0</td>\n",
       "      <td>-0.847231</td>\n",
       "      <td>-0.130323</td>\n",
       "      <td>0.192302</td>\n",
       "      <td>0.185816</td>\n",
       "    </tr>\n",
       "    <tr>\n",
       "      <th>6446</th>\n",
       "      <td>0</td>\n",
       "      <td>0</td>\n",
       "      <td>1</td>\n",
       "      <td>0</td>\n",
       "      <td>0</td>\n",
       "      <td>0</td>\n",
       "      <td>4</td>\n",
       "      <td>28</td>\n",
       "      <td>0</td>\n",
       "      <td>-1.451382</td>\n",
       "      <td>-0.197261</td>\n",
       "      <td>0.192302</td>\n",
       "      <td>-0.772073</td>\n",
       "    </tr>\n",
       "    <tr>\n",
       "      <th>15256</th>\n",
       "      <td>0</td>\n",
       "      <td>0</td>\n",
       "      <td>0</td>\n",
       "      <td>1</td>\n",
       "      <td>0</td>\n",
       "      <td>0</td>\n",
       "      <td>9</td>\n",
       "      <td>18</td>\n",
       "      <td>0</td>\n",
       "      <td>-0.041696</td>\n",
       "      <td>0.371456</td>\n",
       "      <td>0.306117</td>\n",
       "      <td>-0.522131</td>\n",
       "    </tr>\n",
       "    <tr>\n",
       "      <th>...</th>\n",
       "      <td>...</td>\n",
       "      <td>...</td>\n",
       "      <td>...</td>\n",
       "      <td>...</td>\n",
       "      <td>...</td>\n",
       "      <td>...</td>\n",
       "      <td>...</td>\n",
       "      <td>...</td>\n",
       "      <td>...</td>\n",
       "      <td>...</td>\n",
       "      <td>...</td>\n",
       "      <td>...</td>\n",
       "      <td>...</td>\n",
       "    </tr>\n",
       "    <tr>\n",
       "      <th>26208</th>\n",
       "      <td>1</td>\n",
       "      <td>0</td>\n",
       "      <td>0</td>\n",
       "      <td>0</td>\n",
       "      <td>0</td>\n",
       "      <td>1</td>\n",
       "      <td>2</td>\n",
       "      <td>4</td>\n",
       "      <td>0</td>\n",
       "      <td>1.367989</td>\n",
       "      <td>0.367187</td>\n",
       "      <td>-0.869199</td>\n",
       "      <td>0.357993</td>\n",
       "    </tr>\n",
       "    <tr>\n",
       "      <th>677</th>\n",
       "      <td>0</td>\n",
       "      <td>0</td>\n",
       "      <td>1</td>\n",
       "      <td>0</td>\n",
       "      <td>1</td>\n",
       "      <td>0</td>\n",
       "      <td>10</td>\n",
       "      <td>11</td>\n",
       "      <td>0</td>\n",
       "      <td>-1.652766</td>\n",
       "      <td>0.692144</td>\n",
       "      <td>-0.404647</td>\n",
       "      <td>-1.432296</td>\n",
       "    </tr>\n",
       "    <tr>\n",
       "      <th>2045</th>\n",
       "      <td>0</td>\n",
       "      <td>0</td>\n",
       "      <td>1</td>\n",
       "      <td>0</td>\n",
       "      <td>1</td>\n",
       "      <td>0</td>\n",
       "      <td>6</td>\n",
       "      <td>25</td>\n",
       "      <td>0</td>\n",
       "      <td>-0.645847</td>\n",
       "      <td>-0.327892</td>\n",
       "      <td>-0.275734</td>\n",
       "      <td>-1.435625</td>\n",
       "    </tr>\n",
       "    <tr>\n",
       "      <th>27934</th>\n",
       "      <td>0</td>\n",
       "      <td>0</td>\n",
       "      <td>0</td>\n",
       "      <td>0</td>\n",
       "      <td>0</td>\n",
       "      <td>1</td>\n",
       "      <td>9</td>\n",
       "      <td>27</td>\n",
       "      <td>0</td>\n",
       "      <td>-0.847231</td>\n",
       "      <td>0.092434</td>\n",
       "      <td>1.836814</td>\n",
       "      <td>0.357993</td>\n",
       "    </tr>\n",
       "    <tr>\n",
       "      <th>22061</th>\n",
       "      <td>0</td>\n",
       "      <td>0</td>\n",
       "      <td>0</td>\n",
       "      <td>0</td>\n",
       "      <td>0</td>\n",
       "      <td>1</td>\n",
       "      <td>2</td>\n",
       "      <td>6</td>\n",
       "      <td>0</td>\n",
       "      <td>-1.451382</td>\n",
       "      <td>0.342769</td>\n",
       "      <td>-0.393033</td>\n",
       "      <td>1.994602</td>\n",
       "    </tr>\n",
       "  </tbody>\n",
       "</table>\n",
       "<p>7221 rows × 13 columns</p>\n",
       "</div>"
      ],
      "text/plain": [
       "       Use Chip_Chip Transaction  Use Chip_Online Transaction  \\\n",
       "26061                          1                            0   \n",
       "21595                          1                            0   \n",
       "23359                          0                            0   \n",
       "6446                           0                            0   \n",
       "15256                          0                            0   \n",
       "...                          ...                          ...   \n",
       "26208                          1                            0   \n",
       "677                            0                            0   \n",
       "2045                           0                            0   \n",
       "27934                          0                            0   \n",
       "22061                          0                            0   \n",
       "\n",
       "       bandeira_Mastercard  tipo_Credit  tipo_Debit (Prepaid)  User  Month  \\\n",
       "26061                    0            0                     0     1      6   \n",
       "21595                    0            0                     0     1      2   \n",
       "23359                    0            0                     0     1      1   \n",
       "6446                     1            0                     0     0      4   \n",
       "15256                    0            1                     0     0      9   \n",
       "...                    ...          ...                   ...   ...    ...   \n",
       "26208                    0            0                     0     1      2   \n",
       "677                      1            0                     1     0     10   \n",
       "2045                     1            0                     1     0      6   \n",
       "27934                    0            0                     0     1      9   \n",
       "22061                    0            0                     0     1      2   \n",
       "\n",
       "       Day  dark_web  esc_Year  esc_Amount   esc_MCC  esc_limite_credito  \n",
       "26061   20         0  1.166606    0.156042 -0.391872            0.357993  \n",
       "21595   16         0  1.569373    0.430539 -0.869199            1.994602  \n",
       "23359   13         0 -0.847231   -0.130323  0.192302            0.185816  \n",
       "6446    28         0 -1.451382   -0.197261  0.192302           -0.772073  \n",
       "15256   18         0 -0.041696    0.371456  0.306117           -0.522131  \n",
       "...    ...       ...       ...         ...       ...                 ...  \n",
       "26208    4         0  1.367989    0.367187 -0.869199            0.357993  \n",
       "677     11         0 -1.652766    0.692144 -0.404647           -1.432296  \n",
       "2045    25         0 -0.645847   -0.327892 -0.275734           -1.435625  \n",
       "27934   27         0 -0.847231    0.092434  1.836814            0.357993  \n",
       "22061    6         0 -1.451382    0.342769 -0.393033            1.994602  \n",
       "\n",
       "[7221 rows x 13 columns]"
      ]
     },
     "execution_count": 66,
     "metadata": {},
     "output_type": "execute_result"
    }
   ],
   "source": [
    "X_teste"
   ]
  },
  {
   "cell_type": "markdown",
   "metadata": {
    "id": "Vlxavru2dYdI"
   },
   "source": [
    "Balanceamento dos dados\n",
    "*   Será usada a técnica de under-sampling\n",
    "\n"
   ]
  },
  {
   "cell_type": "code",
   "execution_count": 67,
   "metadata": {
    "id": "743jj9ZTdt1y"
   },
   "outputs": [],
   "source": [
    "# Balanceamento UnderSampler\n",
    "bal_randomico = RandomUnderSampler()\n",
    "X_bal, y_bal = bal_randomico.fit_resample(X_treino, y_treino)"
   ]
  },
  {
   "cell_type": "code",
   "execution_count": 68,
   "metadata": {
    "colab": {
     "base_uri": "https://localhost:8080/"
    },
    "executionInfo": {
     "elapsed": 271,
     "status": "ok",
     "timestamp": 1665546286851,
     "user": {
      "displayName": "Leonardo Cruz",
      "userId": "16069636580170791409"
     },
     "user_tz": 180
    },
    "id": "zsuSINKeeQIO",
    "outputId": "40b38964-7edf-4666-b385-d2a3312d661b"
   },
   "outputs": [
    {
     "name": "stdout",
     "output_type": "stream",
     "text": [
      "0    44\n",
      "1    44\n",
      "dtype: int64\n"
     ]
    }
   ],
   "source": [
    "# Verificar o balanceamento após UnderSampler\n",
    "print(pd.Series(y_bal).value_counts())"
   ]
  },
  {
   "cell_type": "code",
   "execution_count": 69,
   "metadata": {
    "colab": {
     "base_uri": "https://localhost:8080/",
     "height": 282
    },
    "executionInfo": {
     "elapsed": 270,
     "status": "ok",
     "timestamp": 1665546289303,
     "user": {
      "displayName": "Leonardo Cruz",
      "userId": "16069636580170791409"
     },
     "user_tz": 180
    },
    "id": "r86JA5ireYbn",
    "outputId": "f53afea7-0908-42ca-f7af-6a5890dad266"
   },
   "outputs": [
    {
     "data": {
      "text/plain": [
       "<AxesSubplot:ylabel='count'>"
      ]
     },
     "execution_count": 69,
     "metadata": {},
     "output_type": "execute_result"
    },
    {
     "data": {
      "image/png": "[encoded data removed]",
      "text/plain": [
       "<Figure size 432x288 with 1 Axes>"
      ]
     },
     "metadata": {
      "needs_background": "light"
     },
     "output_type": "display_data"
    }
   ],
   "source": [
    "sns.countplot(y_bal)"
   ]
  },
  {
   "cell_type": "code",
   "execution_count": 70,
   "metadata": {
    "id": "pi_q4BtuFBgP"
   },
   "outputs": [],
   "source": [
    "# Balanceamento OverSamples\n",
    "bal_oversampler = RandomOverSampler()\n",
    "X_bal_over, y_bal_over = bal_oversampler.fit_resample(X_treino, y_treino)"
   ]
  },
  {
   "cell_type": "code",
   "execution_count": 71,
   "metadata": {
    "colab": {
     "base_uri": "https://localhost:8080/"
    },
    "executionInfo": {
     "elapsed": 275,
     "status": "ok",
     "timestamp": 1665546293431,
     "user": {
      "displayName": "Leonardo Cruz",
      "userId": "16069636580170791409"
     },
     "user_tz": 180
    },
    "id": "4T3LnqadFjZF",
    "outputId": "4f50efca-b209-403b-d2ac-415c5c57908f"
   },
   "outputs": [
    {
     "name": "stdout",
     "output_type": "stream",
     "text": [
      "0    21617\n",
      "1    21617\n",
      "dtype: int64\n"
     ]
    }
   ],
   "source": [
    "# Verificar o balanceamento após OverSampler\n",
    "print(pd.Series(y_bal_over).value_counts())"
   ]
  },
  {
   "cell_type": "code",
   "execution_count": 72,
   "metadata": {
    "colab": {
     "base_uri": "https://localhost:8080/",
     "height": 282
    },
    "executionInfo": {
     "elapsed": 408,
     "status": "ok",
     "timestamp": 1665546295706,
     "user": {
      "displayName": "Leonardo Cruz",
      "userId": "16069636580170791409"
     },
     "user_tz": 180
    },
    "id": "cqf3O8cNF6V5",
    "outputId": "eca468e1-3b59-49d4-be5f-2b01567e9864"
   },
   "outputs": [
    {
     "data": {
      "text/plain": [
       "<AxesSubplot:ylabel='count'>"
      ]
     },
     "execution_count": 72,
     "metadata": {},
     "output_type": "execute_result"
    },
    {
     "data": {
      "image/png": "[encoded data removed]",
      "text/plain": [
       "<Figure size 432x288 with 1 Axes>"
      ]
     },
     "metadata": {
      "needs_background": "light"
     },
     "output_type": "display_data"
    }
   ],
   "source": [
    "sns.countplot(y_bal_over)"
   ]
  },
  {
   "cell_type": "markdown",
   "metadata": {
    "id": "3kR1ebkYeyie"
   },
   "source": [
    "# **Modelo de Regressão Logística**"
   ]
  },
  {
   "cell_type": "markdown",
   "metadata": {
    "id": "_FKv0a71EDtn"
   },
   "source": [
    "Utilizando Dataframe's balanceados com UnderSampler"
   ]
  },
  {
   "cell_type": "code",
   "execution_count": 73,
   "metadata": {
    "id": "0spG8R0ge3mP"
   },
   "outputs": [],
   "source": [
    "# Criando objeto do modelo\n",
    "\n",
    "# Parâmetro \"max_iter\" ajustado após testes. Foram usados valore (5, 10, 100, 1000). \n",
    "#        Abaixo de 100 o algoritmo não consegue convergência.\n",
    "#        O ponto de estabilização dos resultados fica próximo de 1000.\n",
    "modelo_rl = LogisticRegression(max_iter=1000)\n",
    "\n",
    "# Treinamento do modelo\n",
    "modelo_rl.fit(X_bal, y_bal)\n",
    "\n",
    "#Previsões nos dados de Teste\n",
    "\n",
    "y_pred = modelo_rl.predict(X_teste)\n",
    "y_prova = modelo_rl.predict_proba(X_teste)"
   ]
  },
  {
   "cell_type": "code",
   "execution_count": 74,
   "metadata": {
    "colab": {
     "base_uri": "https://localhost:8080/",
     "height": 538
    },
    "executionInfo": {
     "elapsed": 388,
     "status": "ok",
     "timestamp": 1665546393551,
     "user": {
      "displayName": "Leonardo Cruz",
      "userId": "16069636580170791409"
     },
     "user_tz": 180
    },
    "id": "zFr2VUFuht_z",
    "outputId": "f0bd02fc-2f4c-4ae9-b8df-19a9e193fbfa"
   },
   "outputs": [
    {
     "name": "stdout",
     "output_type": "stream",
     "text": [
      "Relatório de Classificação:\n",
      "               precision    recall  f1-score   support\n",
      "\n",
      "           0     0.9991    0.7785    0.8751      7205\n",
      "           1     0.0068    0.6875    0.0136        16\n",
      "\n",
      "    accuracy                         0.7783      7221\n",
      "   macro avg     0.5030    0.7330    0.4443      7221\n",
      "weighted avg     0.9969    0.7783    0.8732      7221\n",
      "\n",
      "Acurácia: 0.7783\n",
      "\n",
      "AUC: 0.7330\n",
      "\n"
     ]
    },
    {
     "data": {
      "image/png": "[encoded data removed]",
      "text/plain": [
       "<Figure size 432x288 with 2 Axes>"
      ]
     },
     "metadata": {
      "needs_background": "light"
     },
     "output_type": "display_data"
    }
   ],
   "source": [
    "#Avaliação do modelo\n",
    "\n",
    "#Matriz de confusão\n",
    "skplt.metrics.plot_confusion_matrix(y_teste, y_pred)\n",
    "\n",
    "#Classificação\n",
    "print(\"Relatório de Classificação:\\n\", classification_report(y_teste, y_pred, digits=4))\n",
    "\n",
    "# Acurácia do modelo\n",
    "print(\"Acurácia: {:.4f}\\n\".format(accuracy_score(y_teste, y_pred)))\n",
    "\n",
    "# imprimir a área sob da curva\n",
    "print(\"AUC: {:.4f}\\n\".format(roc_auc_score(y_teste, y_pred)))"
   ]
  },
  {
   "cell_type": "markdown",
   "metadata": {
    "id": "_iKtC_t5EHuv"
   },
   "source": [
    "Utilizando Dataframe's balanceados com OverSampler"
   ]
  },
  {
   "cell_type": "code",
   "execution_count": 75,
   "metadata": {
    "id": "V9VP6J1rEKQ_"
   },
   "outputs": [],
   "source": [
    "# Criando objeto do modelo\n",
    "\n",
    "# Parâmetro \"max_iter\" ajustado após testes. Foram usados valore (5, 10, 100, 1000). \n",
    "#        Abaixo de 100 o algoritmo não consegue convergência.\n",
    "#        O ponto de estabilização dos resultados fica próximo de 1000.\n",
    "modelo_rl = LogisticRegression(max_iter=1000)\n",
    "\n",
    "# Treinamento do modelo\n",
    "modelo_rl.fit(X_bal_over, y_bal_over)\n",
    "\n",
    "#Previsões nos dados de Teste\n",
    "\n",
    "y_pred = modelo_rl.predict(X_teste)\n",
    "y_prova = modelo_rl.predict_proba(X_teste)"
   ]
  },
  {
   "cell_type": "code",
   "execution_count": 76,
   "metadata": {
    "colab": {
     "base_uri": "https://localhost:8080/",
     "height": 538
    },
    "executionInfo": {
     "elapsed": 846,
     "status": "ok",
     "timestamp": 1665546413882,
     "user": {
      "displayName": "Leonardo Cruz",
      "userId": "16069636580170791409"
     },
     "user_tz": 180
    },
    "id": "kWQJ1JAEEO6h",
    "outputId": "304ab67d-12ec-4181-9111-c60175fee1ce"
   },
   "outputs": [
    {
     "name": "stdout",
     "output_type": "stream",
     "text": [
      "Relatório de Classificação:\n",
      "               precision    recall  f1-score   support\n",
      "\n",
      "           0     0.9995    0.8391    0.9123      7205\n",
      "           1     0.0111    0.8125    0.0219        16\n",
      "\n",
      "    accuracy                         0.8391      7221\n",
      "   macro avg     0.5053    0.8258    0.4671      7221\n",
      "weighted avg     0.9973    0.8391    0.9104      7221\n",
      "\n",
      "Acurácia: 0.8391\n",
      "\n",
      "AUC: 0.8258\n",
      "\n"
     ]
    },
    {
     "data": {
      "image/png": "[encoded data removed]",
      "text/plain": [
       "<Figure size 432x288 with 2 Axes>"
      ]
     },
     "metadata": {
      "needs_background": "light"
     },
     "output_type": "display_data"
    }
   ],
   "source": [
    "#Avaliação do modelo\n",
    "\n",
    "#Matriz de confusão\n",
    "skplt.metrics.plot_confusion_matrix(y_teste, y_pred)\n",
    "\n",
    "#Classificação\n",
    "print(\"Relatório de Classificação:\\n\", classification_report(y_teste, y_pred, digits=4))\n",
    "\n",
    "# Acurácia do modelo\n",
    "print(\"Acurácia: {:.4f}\\n\".format(accuracy_score(y_teste, y_pred)))\n",
    "\n",
    "# imprimir a área sob da curva\n",
    "print(\"AUC: {:.4f}\\n\".format(roc_auc_score(y_teste, y_pred)))"
   ]
  },
  {
   "cell_type": "markdown",
   "metadata": {
    "id": "jiIkmHZck-xG"
   },
   "source": [
    "# **Modelo GradientBoosting**"
   ]
  },
  {
   "cell_type": "markdown",
   "metadata": {
    "id": "onrZdH5VDmsC"
   },
   "source": [
    "Utilizando dataframe's com balanceados UnderSampler para treino do modelo"
   ]
  },
  {
   "cell_type": "code",
   "execution_count": 77,
   "metadata": {
    "colab": {
     "base_uri": "https://localhost:8080/"
    },
    "executionInfo": {
     "elapsed": 630,
     "status": "ok",
     "timestamp": 1665546321461,
     "user": {
      "displayName": "Leonardo Cruz",
      "userId": "16069636580170791409"
     },
     "user_tz": 180
    },
    "id": "H9TVCZKJDqY-",
    "outputId": "e330e84e-abe8-47c7-8d2b-d785a5986ff2"
   },
   "outputs": [
    {
     "name": "stdout",
     "output_type": "stream",
     "text": [
      "Acurácia 0.695333\n"
     ]
    }
   ],
   "source": [
    "from sklearn.datasets import load_breast_cancer\n",
    "from sklearn.ensemble import GradientBoostingClassifier\n",
    "from sklearn.model_selection import train_test_split\n",
    "\n",
    "# Parâmetro \"max_depth\" ajustado após testes. Foram usados valore (5, 10, 100, 1000). \n",
    "#        O ponto de estabilização dos resultados fica próximo de 100\n",
    "model = GradientBoostingClassifier(max_depth=100)\n",
    "model.fit(X_bal, y_bal)\n",
    "\n",
    "y_pred = model.predict(X_teste)\n",
    "y_prova = model.predict_proba(X_teste)\n",
    "\n",
    "print('Acurácia %0f' % model.score(X_teste, y_teste))"
   ]
  },
  {
   "cell_type": "code",
   "execution_count": 78,
   "metadata": {
    "colab": {
     "base_uri": "https://localhost:8080/",
     "height": 538
    },
    "executionInfo": {
     "elapsed": 291,
     "status": "ok",
     "timestamp": 1665546324983,
     "user": {
      "displayName": "Leonardo Cruz",
      "userId": "16069636580170791409"
     },
     "user_tz": 180
    },
    "id": "hFZgW0fkDyc-",
    "outputId": "255fe7f9-31dc-41dc-a7f8-7b22e0b1c985"
   },
   "outputs": [
    {
     "name": "stdout",
     "output_type": "stream",
     "text": [
      "Relatório de Classificação:\n",
      "               precision    recall  f1-score   support\n",
      "\n",
      "           0     0.9998    0.6948    0.8198      7205\n",
      "           1     0.0068    0.9375    0.0135        16\n",
      "\n",
      "    accuracy                         0.6953      7221\n",
      "   macro avg     0.5033    0.8161    0.4167      7221\n",
      "weighted avg     0.9976    0.6953    0.8181      7221\n",
      "\n",
      "Acurácia: 0.6953\n",
      "\n",
      "AUC: 0.8161\n",
      "\n"
     ]
    },
    {
     "data": {
      "image/png": "[encoded data removed]",
      "text/plain": [
       "<Figure size 432x288 with 2 Axes>"
      ]
     },
     "metadata": {
      "needs_background": "light"
     },
     "output_type": "display_data"
    }
   ],
   "source": [
    "#Avaliação do modelo\n",
    "\n",
    "#Matriz de confusão\n",
    "skplt.metrics.plot_confusion_matrix(y_teste, y_pred)\n",
    "\n",
    "#Classificação\n",
    "print(\"Relatório de Classificação:\\n\", classification_report(y_teste, y_pred, digits=4))\n",
    "\n",
    "# Acurácia do modelo\n",
    "print(\"Acurácia: {:.4f}\\n\".format(accuracy_score(y_teste, y_pred)))\n",
    "\n",
    "# imprimir a área sob da curva\n",
    "print(\"AUC: {:.4f}\\n\".format(roc_auc_score(y_teste, y_pred)))"
   ]
  },
  {
   "cell_type": "markdown",
   "metadata": {
    "id": "hE4mkEfMDhiw"
   },
   "source": [
    "Utilizando dataframe's com balanceamento OverSampler dos para treino do modelo"
   ]
  },
  {
   "cell_type": "code",
   "execution_count": 79,
   "metadata": {
    "colab": {
     "base_uri": "https://localhost:8080/"
    },
    "executionInfo": {
     "elapsed": 8205,
     "status": "ok",
     "timestamp": 1665546339423,
     "user": {
      "displayName": "Leonardo Cruz",
      "userId": "16069636580170791409"
     },
     "user_tz": 180
    },
    "id": "eFZSRq6PlD7y",
    "outputId": "cfee833e-8ada-494a-c3fa-0a70cf2f729d"
   },
   "outputs": [
    {
     "name": "stdout",
     "output_type": "stream",
     "text": [
      "Acurácia 0.998338\n"
     ]
    }
   ],
   "source": [
    "from sklearn.datasets import load_breast_cancer\n",
    "from sklearn.ensemble import GradientBoostingClassifier\n",
    "from sklearn.model_selection import train_test_split\n",
    "\n",
    "#X_train, X_test, y_train, y_test = train_test_split(X, y, test_size=0.33, random_state=42)\n",
    "# Parâmetro \"max_depth\" ajustado após testes. Foram usados valore (5, 10, 100, 1000). \n",
    "#        O ponto de estabilização dos resultados fica próximo de 100\n",
    "model = GradientBoostingClassifier(max_depth=100)\n",
    "model.fit(X_bal_over, y_bal_over)\n",
    "\n",
    "y_pred = model.predict(X_teste)\n",
    "y_prova = model.predict_proba(X_teste)\n",
    "\n",
    "print('Acurácia %0f' % model.score(X_teste, y_teste))"
   ]
  },
  {
   "cell_type": "code",
   "execution_count": 80,
   "metadata": {
    "colab": {
     "base_uri": "https://localhost:8080/",
     "height": 538
    },
    "executionInfo": {
     "elapsed": 300,
     "status": "ok",
     "timestamp": 1665546342889,
     "user": {
      "displayName": "Leonardo Cruz",
      "userId": "16069636580170791409"
     },
     "user_tz": 180
    },
    "id": "Yoalcy4VlbtC",
    "outputId": "00efcb7f-6888-4e7f-fb05-dcb3832d8919",
    "scrolled": true
   },
   "outputs": [
    {
     "name": "stdout",
     "output_type": "stream",
     "text": [
      "Relatório de Classificação:\n",
      "               precision    recall  f1-score   support\n",
      "\n",
      "           0     0.9989    0.9994    0.9992      7205\n",
      "           1     0.6667    0.5000    0.5714        16\n",
      "\n",
      "    accuracy                         0.9983      7221\n",
      "   macro avg     0.8328    0.7497    0.7853      7221\n",
      "weighted avg     0.9982    0.9983    0.9982      7221\n",
      "\n",
      "Acurácia: 0.9983\n",
      "\n",
      "AUC: 0.7497\n",
      "\n"
     ]
    },
    {
     "data": {
      "image/png": "[encoded data removed]",
      "text/plain": [
       "<Figure size 432x288 with 2 Axes>"
      ]
     },
     "metadata": {
      "needs_background": "light"
     },
     "output_type": "display_data"
    }
   ],
   "source": [
    "#Avaliação do modelo\n",
    "\n",
    "#Matriz de confusão\n",
    "skplt.metrics.plot_confusion_matrix(y_teste, y_pred)\n",
    "\n",
    "#Classificação\n",
    "print(\"Relatório de Classificação:\\n\", classification_report(y_teste, y_pred, digits=4))\n",
    "\n",
    "# Acurácia do modelo\n",
    "print(\"Acurácia: {:.4f}\\n\".format(accuracy_score(y_teste, y_pred)))\n",
    "\n",
    "# imprimir a área sob da curva\n",
    "print(\"AUC: {:.4f}\\n\".format(roc_auc_score(y_teste, y_pred)))"
   ]
  },
  {
   "cell_type": "code",
   "execution_count": null,
   "metadata": {},
   "outputs": [],
   "source": []
  }
 ],
 "metadata": {
  "colab": {
   "authorship_tag": "ABX9TyOl4gZgQmX7IXaVZOizU32j",
   "collapsed_sections": [],
   "mount_file_id": "1cw7kCS74vKUku1LTmVZyEWOBoumdncuh",
   "provenance": []
  },
  "kernelspec": {
   "display_name": "Python 3 (ipykernel)",
   "language": "python",
   "name": "python3"
  },
  "language_info": {
   "codemirror_mode": {
    "name": "ipython",
    "version": 3
   },
   "file_extension": ".py",
   "mimetype": "text/x-python",
   "name": "python",
   "nbconvert_exporter": "python",
   "pygments_lexer": "ipython3",
   "version": "3.9.12"
  }
 },
 "nbformat": 4,
 "nbformat_minor": 1
}
